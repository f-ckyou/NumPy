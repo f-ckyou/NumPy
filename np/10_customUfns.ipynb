{
 "cells": [
  {
   "cell_type": "markdown",
   "metadata": {},
   "source": [
    "### Custom Universal Functions\n",
    "allow you to create your own functions that behave similarly to built-in Numpy ufuncs\n",
    "\n",
    "#### Why use Custom Universal Functions?\n",
    "- Performance: \n",
    "- Flexibility: let you define unique operations not included in NumPu's library\n",
    "- Consistency\n",
    "\n",
    "#### How to Create:\n",
    "use `np.frompyfunc` or `np.vectorize` \n",
    "- `np.frompyfunc(func, num_inputs, num_outputs)`: directly turn a Python function into a ufunc. It’s flexible with inputs and outputs but doesn’t bring significant speed improvement.\n",
    "- `np.vectorize(func)`: creates a vectorized version of a function that can take array inputs and apply the function element-wise. However, it is primarily for convenience and readability rather than performance.\n",
    "\n",
    "NOTE: for more advanced performance, Numba or Cython can be used to create high-speed custom ufuncs"
   ]
  },
  {
   "cell_type": "code",
   "execution_count": 5,
   "metadata": {},
   "outputs": [],
   "source": [
    "import numpy as np"
   ]
  },
  {
   "cell_type": "code",
   "execution_count": 6,
   "metadata": {},
   "outputs": [
    {
     "name": "stdout",
     "output_type": "stream",
     "text": [
      "[17 29 45]\n"
     ]
    }
   ],
   "source": [
    "# example 1\n",
    "\n",
    "def sum_of_squares(x, y):\n",
    "    return x**2 + y**2\n",
    "\n",
    "sum_of_squares_ufunc = np.frompyfunc(sum_of_squares, 2, 1)\n",
    "\n",
    "arr1 = np.array([1, 2, 3])\n",
    "arr2 = np.array([4, 5, 6])\n",
    "\n",
    "result = sum_of_squares_ufunc(arr1, arr2)\n",
    "print(result)"
   ]
  },
  {
   "cell_type": "code",
   "execution_count": 9,
   "metadata": {},
   "outputs": [
    {
     "name": "stdout",
     "output_type": "stream",
     "text": [
      "[ 32.  77. 212.]\n"
     ]
    }
   ],
   "source": [
    "#example 2\n",
    "\n",
    "def celsius_to_fahrenheit(celsius):\n",
    "    return celsius * 9 / 5 + 32\n",
    "\n",
    "celsius_to_fahrenheit_vec = np.vectorize(celsius_to_fahrenheit)\n",
    "\n",
    "celsius_values = np.array([0, 25, 100])\n",
    "fahrenheit_values = celsius_to_fahrenheit_vec(celsius_values)\n",
    "print(fahrenheit_values)"
   ]
  },
  {
   "cell_type": "markdown",
   "metadata": {},
   "source": [
    "For more complex functions requiring better performance, you can use Numba to create JIT (Just-In-Time) compiled ufuncs. Numba speeds up functions by converting them to machine code.\n",
    "\n",
    "``` python\n",
    "import numpy as np\n",
    "# pip install numba\n",
    "from numba import vectorize\n",
    "\n",
    "# define a fn and use the decorator @vectorize\n",
    "\n",
    "@vectorize\n",
    "def hypotenuse(x, y):\n",
    "    return (x**2 + y**2)**0.5\n",
    "\n",
    "arr1 = np.array([3, 6, 9])\n",
    "arr2 = np.array([4, 8, 12])\n",
    "\n",
    "result = hypotenuse(arr1, arr2)\n",
    "print(result)\n",
    "\n",
    "```"
   ]
  },
  {
   "cell_type": "markdown",
   "metadata": {},
   "source": [
    "\n",
    "### Summary Table of Methods for Creating Custom Ufuncs\n",
    "\n",
    "| Method                  | Description                                                                                              | When to Use                                     |\n",
    "|-------------------------|----------------------------------------------------------------------------------------------------------|-------------------------------------------------|\n",
    "| `np.frompyfunc`         | Converts a Python function to a ufunc but without speed optimization.                                    | For custom operations with minimal performance need. |\n",
    "| `np.vectorize`          | Vectorizes a Python function but doesn’t significantly boost speed.                                      | For readability and simple element-wise functions. |\n",
    "| `Numba @vectorize`      | Compiles a function to machine code, providing a significant speed boost for element-wise operations.    | For more performance-sensitive operations."
   ]
  }
 ],
 "metadata": {
  "kernelspec": {
   "display_name": "env1",
   "language": "python",
   "name": "python3"
  },
  "language_info": {
   "codemirror_mode": {
    "name": "ipython",
    "version": 3
   },
   "file_extension": ".py",
   "mimetype": "text/x-python",
   "name": "python",
   "nbconvert_exporter": "python",
   "pygments_lexer": "ipython3",
   "version": "3.12.7"
  }
 },
 "nbformat": 4,
 "nbformat_minor": 2
}
