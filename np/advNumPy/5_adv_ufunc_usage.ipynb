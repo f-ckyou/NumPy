{
 "cells": [
  {
   "cell_type": "markdown",
   "metadata": {},
   "source": [
    "many NumPy users will only use the fast element-wise operations provided by the universal functions, a number of additional features occasionally can help you write more concise code without explicit loops"
   ]
  },
  {
   "cell_type": "code",
   "execution_count": 1,
   "metadata": {},
   "outputs": [],
   "source": [
    "import numpy as np"
   ]
  },
  {
   "cell_type": "markdown",
   "metadata": {},
   "source": [
    "### ufunc Instance Methods\n",
    "Each of NumPy’s binary ufuncs has special methods for performing certain kinds of\n",
    "special vectorized operations"
   ]
  },
  {
   "cell_type": "code",
   "execution_count": 3,
   "metadata": {},
   "outputs": [
    {
     "name": "stdout",
     "output_type": "stream",
     "text": [
      "45\n",
      "45\n"
     ]
    }
   ],
   "source": [
    "''' \n",
    "reduce takes a single array and aggregates its values, optionally along an axis, by performing a sequence of binary operations\n",
    "''' \n",
    "\n",
    "# ex: alt way to sum elements in an array : use np.add.reduce\n",
    "\n",
    "arr = np.arange(10)\n",
    "print(np.add.reduce(arr))\n",
    "print(arr.sum())"
   ]
  },
  {
   "cell_type": "markdown",
   "metadata": {},
   "source": [
    "\n",
    "1. **`np.add.reduce(arr)`**:\n",
    "   - This uses the `reduce` operation with the `np.add` function, which applies the addition operation cumulatively along the specified axis.\n",
    "   - This function is slightly more flexible because you can replace `np.add` with other operations (e.g., `np.multiply.reduce` to get the product of elements).\n",
    "   - Usage: `np.add.reduce(arr, axis=...)`\n",
    "\n",
    "2. **`arr.sum()`**:\n",
    "   - This is a shorthand method for summing elements in a NumPy array, typically more convenient and readable for summation.\n",
    "   - It’s optimized for summing elements and is equivalent to `np.add.reduce(arr)` for summing, though `arr.sum()` may be preferred in terms of readability.\n",
    "   - Usage: `arr.sum(axis=...)`"
   ]
  },
  {
   "cell_type": "markdown",
   "metadata": {},
   "source": [
    "## .reduce in clear words: \n",
    "What .reduce Does\n",
    "\n",
    "Think of .reduce as asking:\n",
    "- \"How can I combine all elements in this array with a specific operation (e.g., adding, multiplying, or applying a logical AND)?\"\n",
    "\n",
    "The .reduce function takes an operation (like np.add, np.multiply, np.logical_and, etc.) and applies it across the elements of an array. It does this in pairs, one at a time, until a single result is produced.\n",
    "Example 1: Sum of Elements with np.add.reduce\n",
    "\n",
    "Imagine we have an array:\n",
    "\n",
    "```python\n",
    "arr = np.array([1, 2, 3, 4])\n",
    "```\n",
    "\n",
    "If we apply np.add.reduce(arr), it will add the elements one by one from left to right, as follows:\n",
    "\n",
    "Start with the first two elements: 1 + 2 = 3 <br>\n",
    "Take the result (3) and add the next element: 3 + 3 = 6<br>\n",
    "Take the result (6) and add the last element: 6 + 4 = 10<br>\n",
    "\n",
    "So, np.add.reduce(arr) will return 10.<br>\n",
    "\n",
    "In general:\n",
    "- np.add.reduce takes all elements and reduces them to a single result by adding.\n",
    "\n",
    "\n",
    "\n",
    "**Reducing Along an Axis in 2D Arrays**\n",
    "\n",
    "When you have a 2D array, .reduce can work along rows or columns. For instance:\n",
    "\n",
    "```python\n",
    "arr = np.array([\n",
    "    [1, 2, 3],\n",
    "    [4, 5, 6],\n",
    "    [7, 8, 9]\n",
    "])\n",
    "```\n",
    "\n",
    "If we use np.add.reduce(arr, axis=0), it will sum down each column:\n",
    "\n",
    "First column: 1 + 4 + 7 = 12<br>\n",
    "Second column: 2 + 5 + 8 = 15<br>\n",
    "Third column: 3 + 6 + 9 = 18<br>\n",
    "\n",
    "The result will be [12, 15, 18].<br>\n",
    "\n",
    "If we use np.add.reduce(arr, axis=1), it will sum across each row:\n",
    "\n",
    "First row: 1 + 2 + 3 = 6<br>\n",
    "Second row: 4 + 5 + 6 = 15<br>\n",
    "third row: 7 + 8 + 9 = 24<br>\n",
    "\n",
    "The result will be [6, 15, 24].\n",
    "\n",
    "### **Why .reduce is Useful**\n",
    "\n",
    ".reduce is useful when you need to combine elements in a sequence according to a rule, such as summing, multiplying, or checking if all elements meet a condition. By using .reduce with different operations (like np.add, np.multiply, or np.logical_and), you can apply various kinds of cumulative processing to arrays.\n",
    "\n",
    "\n",
    "**Another Example: Checking if All Elements are Increasing**\n",
    "\n",
    "Let’s say we want to check if every element in an array is less than the next element, which is what you were looking at earlier with np.logical_and.reduce.\n",
    "\n",
    "```python\n",
    "arr = [1, 2, 3, 4]\n",
    "```\n",
    "\n",
    "If we write \n",
    "```python \n",
    "np.logical_and.reduce(arr[:-1] < arr[1:])\n",
    "``` \n",
    ", it will:\n",
    "\n",
    "Check if each element is less than the next one `(arr[:-1] < arr[1:] gives [True, True, True])`.\n",
    "Combine all the results with a logical AND:\n",
    "    - True AND True = True\n",
    "    - True AND True = True\n",
    "\n",
    "The final result is True, meaning all elements are indeed increasing.\n",
    "\n",
    "But if arr were [1, 2, 4, 3], then:\n",
    "\n",
    "arr[:-1] < arr[1:] would be [True, True, False]<br>\n",
    "np.logical_and.reduce([True, True, False]) would yield False (since not all comparisons were True)."
   ]
  },
  {
   "cell_type": "code",
   "execution_count": 5,
   "metadata": {},
   "outputs": [
    {
     "data": {
      "text/plain": [
       "array([[-0.903889  ,  0.15713146,  0.89761199, -0.76219554, -0.17625556],\n",
       "       [ 0.05303172, -1.62844028, -0.17753333,  1.96360352,  1.78125478],\n",
       "       [-0.87971984, -1.69847913, -1.81891091,  0.11895453, -0.44409513],\n",
       "       [ 0.76911421, -0.03433778,  0.39252776,  0.75891811, -0.07045967],\n",
       "       [ 1.04984775,  1.02967072, -0.42005533,  0.78626627,  0.96124929]])"
      ]
     },
     "execution_count": 5,
     "metadata": {},
     "output_type": "execute_result"
    }
   ],
   "source": [
    "my_rng = np.random.default_rng(12346) # for reproducibility\n",
    "arr = my_rng.standard_normal((5, 5))\n",
    "arr"
   ]
  },
  {
   "cell_type": "code",
   "execution_count": 7,
   "metadata": {},
   "outputs": [
    {
     "data": {
      "text/plain": [
       "array([[-0.903889  , -0.76219554, -0.17625556,  0.15713146,  0.89761199],\n",
       "       [ 0.05303172, -1.62844028, -0.17753333,  1.96360352,  1.78125478],\n",
       "       [-1.81891091, -1.69847913, -0.87971984, -0.44409513,  0.11895453],\n",
       "       [ 0.76911421, -0.03433778,  0.39252776,  0.75891811, -0.07045967],\n",
       "       [-0.42005533,  0.78626627,  0.96124929,  1.02967072,  1.04984775]])"
      ]
     },
     "execution_count": 7,
     "metadata": {},
     "output_type": "execute_result"
    }
   ],
   "source": [
    "arr[::2].sort(1) # sort row 0,2,4\n",
    "arr"
   ]
  },
  {
   "cell_type": "code",
   "execution_count": 9,
   "metadata": {},
   "outputs": [
    {
     "data": {
      "text/plain": [
       "array([[ True,  True,  True,  True],\n",
       "       [False,  True,  True, False],\n",
       "       [ True,  True,  True,  True],\n",
       "       [False,  True,  True, False],\n",
       "       [ True,  True,  True,  True]])"
      ]
     },
     "execution_count": 9,
     "metadata": {},
     "output_type": "execute_result"
    }
   ],
   "source": [
    "arr[:, :-1] < arr[:, 1:]"
   ]
  },
  {
   "cell_type": "code",
   "execution_count": 12,
   "metadata": {},
   "outputs": [
    {
     "data": {
      "text/plain": [
       "array([ True, False,  True, False,  True])"
      ]
     },
     "execution_count": 12,
     "metadata": {},
     "output_type": "execute_result"
    }
   ],
   "source": [
    "np.logical_and.reduce(arr[:, :-1] < arr[:, 1:], axis=1) # checks if all comparisons in each row are True"
   ]
  },
  {
   "cell_type": "markdown",
   "metadata": {},
   "source": [
    "## accumulate ufunc method \n",
    "is related to reduce, like cumsum is related to sum <br>\n",
    "It produces an array of the same size with the intermediate \"accumulated\" values"
   ]
  },
  {
   "cell_type": "code",
   "execution_count": 13,
   "metadata": {},
   "outputs": [
    {
     "data": {
      "text/plain": [
       "array([[ 0,  1,  3,  6, 10],\n",
       "       [ 5, 11, 18, 26, 35],\n",
       "       [10, 21, 33, 46, 60]])"
      ]
     },
     "execution_count": 13,
     "metadata": {},
     "output_type": "execute_result"
    }
   ],
   "source": [
    "arr = np.arange(15).reshape((3,5))\n",
    "np.add.accumulate(arr, axis=1)"
   ]
  },
  {
   "cell_type": "code",
   "execution_count": 16,
   "metadata": {},
   "outputs": [
    {
     "data": {
      "text/plain": [
       "array([0, 1, 2])"
      ]
     },
     "execution_count": 16,
     "metadata": {},
     "output_type": "execute_result"
    }
   ],
   "source": [
    "arr = np.arange(3)\n",
    "arr"
   ]
  },
  {
   "cell_type": "code",
   "execution_count": 17,
   "metadata": {},
   "outputs": [
    {
     "data": {
      "text/plain": [
       "array([[0, 0, 0, 0, 0],\n",
       "       [0, 1, 2, 3, 4],\n",
       "       [0, 2, 4, 6, 8]])"
      ]
     },
     "execution_count": 17,
     "metadata": {},
     "output_type": "execute_result"
    }
   ],
   "source": [
    "np.multiply.outer(arr, np.arange(5)) # outer performs a pair-wise cross product btw two arrays"
   ]
  },
  {
   "cell_type": "code",
   "execution_count": 19,
   "metadata": {},
   "outputs": [
    {
     "data": {
      "text/plain": [
       "(3, 4, 5)"
      ]
     },
     "execution_count": 19,
     "metadata": {},
     "output_type": "execute_result"
    }
   ],
   "source": [
    "# output of the outer will have a dimension that is the concatenation of the dimensions of the inputs\n",
    "x, y = my_rng.standard_normal((3,4)), my_rng.standard_normal(5)\n",
    "result = np.subtract.outer(x,y)\n",
    "result.shape"
   ]
  },
  {
   "cell_type": "markdown",
   "metadata": {},
   "source": [
    "### reduceat \n",
    " Instead of applying an operation (like sum or multiply) across the entire array or along a single axis, reduceat applies the operation at specific sections of the array, as defined by a list of indices"
   ]
  },
  {
   "cell_type": "code",
   "execution_count": 24,
   "metadata": {},
   "outputs": [
    {
     "name": "stdout",
     "output_type": "stream",
     "text": [
      "[0 1 2 3 4 5 6 7 8 9]\n"
     ]
    }
   ],
   "source": [
    "arr = np.arange(10)\n",
    "print(arr)"
   ]
  },
  {
   "cell_type": "code",
   "execution_count": 25,
   "metadata": {},
   "outputs": [
    {
     "data": {
      "text/plain": [
       "array([ 7, 18, 17])"
      ]
     },
     "execution_count": 25,
     "metadata": {},
     "output_type": "execute_result"
    }
   ],
   "source": [
    "np.add.reduceat(arr, [3, 5, 8])"
   ]
  },
  {
   "cell_type": "code",
   "execution_count": 26,
   "metadata": {},
   "outputs": [
    {
     "name": "stdout",
     "output_type": "stream",
     "text": [
      "[[ 0  0  0  0  0]\n",
      " [ 0  1  2  3  4]\n",
      " [ 0  2  4  6  8]\n",
      " [ 0  3  6  9 12]]\n"
     ]
    },
    {
     "data": {
      "text/plain": [
       "array([[ 0,  0,  0],\n",
       "       [ 1,  5,  4],\n",
       "       [ 2, 10,  8],\n",
       "       [ 3, 15, 12]])"
      ]
     },
     "execution_count": 26,
     "metadata": {},
     "output_type": "execute_result"
    }
   ],
   "source": [
    "arr = np.multiply.outer(np.arange(4), np.arange(5))\n",
    "print(arr)\n",
    "\n",
    "np.add.reduceat(arr, [0,2,4], axis=1)"
   ]
  },
  {
   "cell_type": "markdown",
   "metadata": {},
   "source": [
    "## Writing New ufuncs in Python\n",
    "There are no of ways to do it. The most general is to use the NumPy C API. <br>\n",
    "But we will look at pure Python ufuncs - \n",
    "\n",
    "`numpy.frompyfunc` accepts a python function along with a specification for the number of inputs and outputs."
   ]
  },
  {
   "cell_type": "code",
   "execution_count": 27,
   "metadata": {},
   "outputs": [
    {
     "data": {
      "text/plain": [
       "array([0, 2, 4, 6, 8, 10, 12, 14], dtype=object)"
      ]
     },
     "execution_count": 27,
     "metadata": {},
     "output_type": "execute_result"
    }
   ],
   "source": [
    "# for ex: a simple fn that adds element-wise would be specified as:\n",
    "def add_elements(x,y):\n",
    "    return x + y \n",
    "\n",
    "add_them = np.frompyfunc(add_elements, 2, 1)\n",
    "\n",
    "add_them(np.arange(8), np.arange(8))"
   ]
  },
  {
   "cell_type": "markdown",
   "metadata": {},
   "source": [
    "Functions created using frompyfunc always return arrays of Python objects, which\n",
    "can be inconvenient.<br> \n",
    "Fortunately, there is an alternative (but slightly less feature rich)\n",
    "function, `numpy.vectorize`, that allows you to specify the output type"
   ]
  },
  {
   "cell_type": "code",
   "execution_count": 28,
   "metadata": {},
   "outputs": [
    {
     "data": {
      "text/plain": [
       "array([ 0.,  2.,  4.,  6.,  8., 10., 12., 14.])"
      ]
     },
     "execution_count": 28,
     "metadata": {},
     "output_type": "execute_result"
    }
   ],
   "source": [
    "add_them = np.vectorize(add_elements, otypes=[np.float64])\n",
    "add_them(np.arange(8), np.arange(8))"
   ]
  },
  {
   "cell_type": "markdown",
   "metadata": {},
   "source": [
    "These functions provide a way to create ufunc-like functions, but they are very slow because they require a Python function call to compute each element, which is a lot slower than NumPy’s C-based ufunc loops"
   ]
  },
  {
   "cell_type": "code",
   "execution_count": 30,
   "metadata": {},
   "outputs": [
    {
     "name": "stdout",
     "output_type": "stream",
     "text": [
      "3.48 ms ± 227 μs per loop (mean ± std. dev. of 7 runs, 100 loops each)\n"
     ]
    }
   ],
   "source": [
    "arr = my_rng.standard_normal(10000)\n",
    "%timeit add_them(arr, arr)"
   ]
  },
  {
   "cell_type": "code",
   "execution_count": 31,
   "metadata": {},
   "outputs": [
    {
     "name": "stdout",
     "output_type": "stream",
     "text": [
      "8.35 μs ± 184 ns per loop (mean ± std. dev. of 7 runs, 100,000 loops each)\n"
     ]
    }
   ],
   "source": [
    "%timeit np.add(arr,arr)"
   ]
  }
 ],
 "metadata": {
  "kernelspec": {
   "display_name": "env1",
   "language": "python",
   "name": "python3"
  },
  "language_info": {
   "codemirror_mode": {
    "name": "ipython",
    "version": 3
   },
   "file_extension": ".py",
   "mimetype": "text/x-python",
   "name": "python",
   "nbconvert_exporter": "python",
   "pygments_lexer": "ipython3",
   "version": "3.12.7"
  }
 },
 "nbformat": 4,
 "nbformat_minor": 2
}
