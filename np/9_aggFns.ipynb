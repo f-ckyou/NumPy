{
 "cells": [
  {
   "cell_type": "markdown",
   "metadata": {},
   "source": [
    "### Aggregate Functions: \n",
    "- reduce an array to a single value or to a lower dimensional summary\n",
    "- perform operations across specified axes to produce summary values\n",
    "### Key Aggregate Functions\n",
    "\n",
    "\n",
    "\n",
    "| Function           |Description                                                                                           |\n",
    "|--------------------|-------------------------------------------------------------------------------------------------------|\n",
    "| `sum`              | Computes the sum of all elements in the array or along a specified axis.                              |\n",
    "| `mean`             | Calculates the mean (average) of all elements or along an axis.                                       |\n",
    "| `std`              | Computes the standard deviation of elements, showing how much variation or spread there is from the mean. |\n",
    "| `var`              | Computes the variance of elements, representing the average of the squared deviations from the mean.  |\n",
    "| `min`              | Finds the minimum value in the array or along a specified axis.                                       |\n",
    "| `max`              | Finds the maximum value in the array or along a specified axis.                                       |\n",
    "| `argmin`           | Returns the index of the minimum value in the array or along an axis.                                 |\n",
    "| `argmax`           | Returns the index of the maximum value in the array or along an axis.                                 |\n",
    "| `cumsum`           | Returns the cumulative sum of elements, with each element representing the sum up to that position.   |\n",
    "| `cumprod`          | Returns the cumulative product of elements, with each element representing the product up to that position. |\n",
    "| `median`           | Computes the median (middle value) of elements in the array.                                         |\n",
    "| `percentile`       | Computes the nth percentile, which gives a value below which a specified percentage of elements fall. |\n",
    "| `prod`             | Calculates the product of all elements in the array or along a specified axis.                       |\n"
   ]
  },
  {
   "cell_type": "code",
   "execution_count": 2,
   "metadata": {},
   "outputs": [],
   "source": [
    "import numpy as np"
   ]
  },
  {
   "cell_type": "markdown",
   "metadata": {},
   "source": [
    "In a multi-dim array: \n",
    "- Axis 0 = rows direction ( moving vertically)\n",
    "- Axis 1 = cols direction ( moving horizontally )"
   ]
  },
  {
   "cell_type": "code",
   "execution_count": 3,
   "metadata": {},
   "outputs": [
    {
     "data": {
      "text/plain": [
       "array([15, 18, 21, 24])"
      ]
     },
     "execution_count": 3,
     "metadata": {},
     "output_type": "execute_result"
    }
   ],
   "source": [
    "arr = np.array([\n",
    "    [1, 2, 3, 4],\n",
    "    [5, 6, 7, 8],\n",
    "    [9, 10, 11, 12]\n",
    "])\n",
    "\n",
    "np.sum(arr, axis=0) # computed down the rows, means calculated across each column"
   ]
  },
  {
   "cell_type": "code",
   "execution_count": 4,
   "metadata": {},
   "outputs": [
    {
     "data": {
      "text/plain": [
       "array([10, 26, 42])"
      ]
     },
     "execution_count": 4,
     "metadata": {},
     "output_type": "execute_result"
    }
   ],
   "source": [
    "np.sum(arr, axis=1) # computed across the cols, means calculated for each row"
   ]
  },
  {
   "cell_type": "code",
   "execution_count": 5,
   "metadata": {},
   "outputs": [
    {
     "data": {
      "text/plain": [
       "np.int64(78)"
      ]
     },
     "execution_count": 5,
     "metadata": {},
     "output_type": "execute_result"
    }
   ],
   "source": [
    "# if no axis specified\n",
    "np.sum(arr) # apply to all elements"
   ]
  },
  {
   "cell_type": "code",
   "execution_count": 8,
   "metadata": {},
   "outputs": [
    {
     "name": "stdout",
     "output_type": "stream",
     "text": [
      "[5. 6. 7. 8.]\n",
      "[ 4  8 12]\n",
      "[[ 1  3  6 10]\n",
      " [ 5 11 18 26]\n",
      " [ 9 19 30 42]]\n"
     ]
    }
   ],
   "source": [
    "print(np.mean(arr, axis=0))\n",
    "print(np.max(arr, axis=1))\n",
    "print(np.cumsum(arr, axis=1)) # cumulative sum"
   ]
  },
  {
   "cell_type": "code",
   "execution_count": 9,
   "metadata": {},
   "outputs": [],
   "source": [
    "# 3D arrays\n",
    "arr_3d = np.array([\n",
    "    [[ 1,  2,  3,  4],\n",
    "     [ 5,  6,  7,  8],\n",
    "     [ 9, 10, 11, 12]],\n",
    "\n",
    "    [[13, 14, 15, 16],\n",
    "     [17, 18, 19, 20],\n",
    "     [21, 22, 23, 24]]\n",
    "])\n"
   ]
  },
  {
   "cell_type": "code",
   "execution_count": 10,
   "metadata": {},
   "outputs": [
    {
     "data": {
      "text/plain": [
       "array([[14, 16, 18, 20],\n",
       "       [22, 24, 26, 28],\n",
       "       [30, 32, 34, 36]])"
      ]
     },
     "execution_count": 10,
     "metadata": {},
     "output_type": "execute_result"
    }
   ],
   "source": [
    "np.sum(arr_3d, axis=0) # depth"
   ]
  },
  {
   "cell_type": "code",
   "execution_count": 11,
   "metadata": {},
   "outputs": [
    {
     "data": {
      "text/plain": [
       "array([[15, 18, 21, 24],\n",
       "       [51, 54, 57, 60]])"
      ]
     },
     "execution_count": 11,
     "metadata": {},
     "output_type": "execute_result"
    }
   ],
   "source": [
    "np.sum(arr_3d, axis=1) # down the rows"
   ]
  },
  {
   "cell_type": "code",
   "execution_count": 12,
   "metadata": {},
   "outputs": [
    {
     "data": {
      "text/plain": [
       "array([[10, 26, 42],\n",
       "       [58, 74, 90]])"
      ]
     },
     "execution_count": 12,
     "metadata": {},
     "output_type": "execute_result"
    }
   ],
   "source": [
    "np.sum(arr_3d, axis=2) # across the cols"
   ]
  }
 ],
 "metadata": {
  "kernelspec": {
   "display_name": "env1",
   "language": "python",
   "name": "python3"
  },
  "language_info": {
   "codemirror_mode": {
    "name": "ipython",
    "version": 3
   },
   "file_extension": ".py",
   "mimetype": "text/x-python",
   "name": "python",
   "nbconvert_exporter": "python",
   "pygments_lexer": "ipython3",
   "version": "3.12.7"
  }
 },
 "nbformat": 4,
 "nbformat_minor": 2
}
