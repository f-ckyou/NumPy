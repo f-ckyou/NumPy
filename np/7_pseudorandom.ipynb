{
 "cells": [
  {
   "cell_type": "code",
   "execution_count": 41,
   "metadata": {},
   "outputs": [],
   "source": [
    "import numpy as np"
   ]
  },
  {
   "cell_type": "markdown",
   "metadata": {},
   "source": [
    "### pseudorandom number generation\n",
    "- not truly random but can simulate randomness\n",
    "- computed from an initial value known as a seed\n",
    "- Pseudorandom sequences exhibit statistical properties similar to those of random sequences, making them suitable for applications where true randomness is not feasible\n",
    "\n",
    "- Submodule: handled by the `numpy.random` module\n",
    "- The sequence of numbers generated can be controlled by setting a seed using `numpy.random.seed()`. This is important for reproducibility in experiments and simulations.\n",
    "\n",
    "Properties of Pseudorandom sequences: \n",
    "- uniformity: The numbers generated should be uniformly distributed over the specified range\n",
    "- independence: Each number should be independent of others\n",
    "- periodicity: The sequence should have a long period, meaning it does not repeat in a short interval\n",
    "\n",
    "Practical Applications: \n",
    "- simulations\n",
    "- machine learning\n",
    "- games and graphics"
   ]
  },
  {
   "cell_type": "markdown",
   "metadata": {},
   "source": [
    "The **standard normal distribution** is a specific way of describing numbers that are spread out in a predictable way around a central value, with most numbers close to this center. Imagine you have a bunch of measurements (like people's heights or test scores), and they mostly cluster around an average value.\n",
    "\n",
    "### Simple Breakdown\n",
    "- **Center at 0**: The center, or middle value, of the standard normal distribution is 0. This means that if you looked at all your data, most values would be close to 0.\n",
    "- **Spread of 1**: The numbers in this distribution spread out from the center in a way that most are within \"1 unit\" of it. This \"1\" is called the *standard deviation* (a way to measure spread), and here it's set to 1 by default.\n",
    "\n",
    "### Shape of the Distribution\n",
    "- If you made a graph of all the numbers, it would look like a smooth hill or a bell shape, where:\n",
    "  - Most numbers are clustered around the center (close to 0).\n",
    "  - Fewer numbers are further away from the center.\n",
    "  \n",
    "### Why It’s Useful\n",
    "1. **Predictability**: It helps to make predictions about data. For example, if something follows a standard normal distribution, you know most values will be close to 0, and only a few will be far away.\n",
    "2. **Comparing Data**: If you have different groups of data, you can use this distribution as a standard to compare them.\n"
   ]
  },
  {
   "cell_type": "code",
   "execution_count": 42,
   "metadata": {},
   "outputs": [
    {
     "data": {
      "text/plain": [
       "array([[ 1.36914012, -0.14884643, -0.5830833 ,  1.81981158],\n",
       "       [-1.77155212, -0.13457015,  2.07750097, -1.17244064],\n",
       "       [ 0.73490699, -0.76893758, -0.88157469,  0.85363248],\n",
       "       [-1.17467656,  1.62875786, -0.7789911 ,  1.13503535]])"
      ]
     },
     "execution_count": 42,
     "metadata": {},
     "output_type": "execute_result"
    }
   ],
   "source": [
    "samples = np.random.standard_normal(size=(4,4))\n",
    "samples"
   ]
  },
  {
   "cell_type": "code",
   "execution_count": 43,
   "metadata": {},
   "outputs": [],
   "source": [
    "from random import normalvariate\n",
    "import random"
   ]
  },
  {
   "cell_type": "markdown",
   "metadata": {},
   "source": [
    "In Python's `random` module, the `normalvariate()` function generates random numbers following a **normal distribution** (also known as a Gaussian distribution), which is characterized by two parameters:\n",
    "\n",
    "- **Mean (μ)**: This is the central or average value around which the numbers will be spread.\n",
    "- **Standard deviation (σ)**: This represents the spread or “width” of the distribution. A higher standard deviation means values are more spread out from the mean.\n",
    "\n",
    "### Syntax\n",
    "```python\n",
    "random.normalvariate(mu, sigma)\n",
    "```\n",
    "\n",
    "- `mu`: The mean (average) of the distribution.\n",
    "- `sigma`: The standard deviation (spread) of the distribution.\n",
    "\n",
    "### How It Works\n",
    "- When you call `normalvariate(mu, sigma)`, it returns a random float number from a normal distribution with the specified mean (`mu`) and standard deviation (`sigma`).\n",
    "- The numbers it generates are more likely to be close to the mean, with fewer numbers appearing as they get further from the mean, forming the typical \"bell curve\" shape.\n",
    "\n",
    "\n",
    "### Use Cases\n",
    "- **Simulating Real-World Data**: Many natural processes (like heights, test scores, measurement errors) often follow a normal distribution, so `normalvariate()` can simulate such data.\n",
    "- **Sampling and Randomness**: It’s useful for simulations and generating sample data, where you want random values that follow a predictable, normal pattern.\n",
    "\n",
    "### Difference from Standard Normal Distribution\n",
    "- The `normalvariate()` function is not limited to a mean of 0 and a standard deviation of 1 (as in the standard normal distribution). You can set `mu` and `sigma` to whatever values you need for your specific situation.\n",
    "\n",
    "So, `normalvariate()` is a handy function for generating normally distributed random values with any specified mean and spread!"
   ]
  },
  {
   "cell_type": "code",
   "execution_count": 44,
   "metadata": {},
   "outputs": [
    {
     "data": {
      "text/plain": [
       "99.160812883207"
      ]
     },
     "execution_count": 44,
     "metadata": {},
     "output_type": "execute_result"
    }
   ],
   "source": [
    "random_number = random.normalvariate(100, 15)\n",
    "random_number\n",
    "# If you run this multiple times, you'll get a series of numbers that generally cluster around 100, with most values falling within 15 units of the mean (i.e., between about 85 and 115)"
   ]
  },
  {
   "cell_type": "code",
   "execution_count": 45,
   "metadata": {},
   "outputs": [],
   "source": [
    "N = 1_000_000"
   ]
  },
  {
   "cell_type": "code",
   "execution_count": 46,
   "metadata": {},
   "outputs": [
    {
     "name": "stdout",
     "output_type": "stream",
     "text": [
      "1.22 s ± 146 ms per loop (mean ± std. dev. of 7 runs, 1 loop each)\n"
     ]
    }
   ],
   "source": [
    "%timeit samples = [normalvariate(0,1) for _ in range(N)]"
   ]
  },
  {
   "cell_type": "code",
   "execution_count": 47,
   "metadata": {},
   "outputs": [
    {
     "name": "stdout",
     "output_type": "stream",
     "text": [
      "39.8 ms ± 1.5 ms per loop (mean ± std. dev. of 7 runs, 10 loops each)\n"
     ]
    }
   ],
   "source": [
    "%timeit np.random.standard_normal(N)"
   ]
  },
  {
   "cell_type": "markdown",
   "metadata": {},
   "source": [
    "#### configure an explicit generator: "
   ]
  },
  {
   "cell_type": "code",
   "execution_count": 48,
   "metadata": {},
   "outputs": [
    {
     "data": {
      "text/plain": [
       "array([[-1.42382504,  1.26372846, -0.87066174],\n",
       "       [-0.25917323, -0.07534331, -0.74088465]])"
      ]
     },
     "execution_count": 48,
     "metadata": {},
     "output_type": "execute_result"
    }
   ],
   "source": [
    "rng = np.random.default_rng(seed=12345)\n",
    "data = rng.standard_normal((2,3))\n",
    "data"
   ]
  },
  {
   "cell_type": "code",
   "execution_count": 49,
   "metadata": {},
   "outputs": [
    {
     "data": {
      "text/plain": [
       "numpy.random._generator.Generator"
      ]
     },
     "execution_count": 49,
     "metadata": {},
     "output_type": "execute_result"
    }
   ],
   "source": [
    "type(rng)"
   ]
  },
  {
   "cell_type": "markdown",
   "metadata": {},
   "source": [
    "### Numpy random number generator methods"
   ]
  },
  {
   "cell_type": "markdown",
   "metadata": {},
   "source": [
    "**permutation(x)**: returns a random permutation of a sequence"
   ]
  },
  {
   "cell_type": "code",
   "execution_count": 50,
   "metadata": {},
   "outputs": [
    {
     "data": {
      "text/plain": [
       "array([4, 1, 0, 2, 3])"
      ]
     },
     "execution_count": 50,
     "metadata": {},
     "output_type": "execute_result"
    }
   ],
   "source": [
    "# If x is an integer, it returns a randomly permuted range of integers from 0 to x-1. If x is an array, it returns a randomly shuffled copy of the array\n",
    "np.random.permutation(5)"
   ]
  },
  {
   "cell_type": "code",
   "execution_count": 51,
   "metadata": {},
   "outputs": [
    {
     "data": {
      "text/plain": [
       "array([1, 4, 3, 5, 2])"
      ]
     },
     "execution_count": 51,
     "metadata": {},
     "output_type": "execute_result"
    }
   ],
   "source": [
    "np.random.permutation([1,2,3,4,5])"
   ]
  },
  {
   "cell_type": "markdown",
   "metadata": {},
   "source": [
    "**shuffle(x)**: modifies the input array itself instead of returning a new one"
   ]
  },
  {
   "cell_type": "code",
   "execution_count": 52,
   "metadata": {},
   "outputs": [
    {
     "data": {
      "text/plain": [
       "array([3, 4, 1, 2])"
      ]
     },
     "execution_count": 52,
     "metadata": {},
     "output_type": "execute_result"
    }
   ],
   "source": [
    "arr = np.array([1, 2, 3, 4])\n",
    "np.random.shuffle(arr) # arr is now shuffled\n",
    "arr"
   ]
  },
  {
   "cell_type": "markdown",
   "metadata": {},
   "source": [
    "**uniform(low=0.0, high=1.0, size=None)**: draws samples from a uniform distribution over the interval [low, high)"
   ]
  },
  {
   "cell_type": "code",
   "execution_count": 53,
   "metadata": {},
   "outputs": [
    {
     "data": {
      "text/plain": [
       "array([ 2.99254024, 10.26350994,  2.12924562, 10.26078162,  7.52135578])"
      ]
     },
     "execution_count": 53,
     "metadata": {},
     "output_type": "execute_result"
    }
   ],
   "source": [
    "np.random.uniform(1,11,5)"
   ]
  },
  {
   "cell_type": "markdown",
   "metadata": {},
   "source": [
    "**integers(low, high=None, size=None, dtype=int)**"
   ]
  },
  {
   "cell_type": "code",
   "execution_count": 55,
   "metadata": {},
   "outputs": [],
   "source": [
    "# np.random.integers(1,10,size=5)"
   ]
  },
  {
   "cell_type": "markdown",
   "metadata": {},
   "source": [
    "**standard_normal(size=None)**: "
   ]
  },
  {
   "cell_type": "code",
   "execution_count": 56,
   "metadata": {},
   "outputs": [
    {
     "data": {
      "text/plain": [
       "array([ 2.31414015,  1.21808064, -0.75086824,  0.15143224,  1.27793444])"
      ]
     },
     "execution_count": 56,
     "metadata": {},
     "output_type": "execute_result"
    }
   ],
   "source": [
    "np.random.standard_normal(5) \n"
   ]
  },
  {
   "cell_type": "markdown",
   "metadata": {},
   "source": [
    "**binomial(n, p, size=None)**: draws samples from a binomial distribution with n trials and probability of success p"
   ]
  },
  {
   "cell_type": "code",
   "execution_count": 57,
   "metadata": {},
   "outputs": [
    {
     "data": {
      "text/plain": [
       "array([3, 2, 3, 6, 4])"
      ]
     },
     "execution_count": 57,
     "metadata": {},
     "output_type": "execute_result"
    }
   ],
   "source": [
    "np.random.binomial(10, 0.5, size=5)  # Five samples from a binomial distribution with 10 trials, 0.5 success probability\n"
   ]
  },
  {
   "cell_type": "markdown",
   "metadata": {},
   "source": [
    "**normal(loc=0.0, scale=1.0, size=None)**: draws samples from a normal (Gaussian) distribution with specified `mean (loc)` and `standard deviation (scale)`"
   ]
  },
  {
   "cell_type": "code",
   "execution_count": 59,
   "metadata": {},
   "outputs": [
    {
     "data": {
      "text/plain": [
       "array([3.16260202, 2.32883006, 5.65320482, 6.41057212, 7.66854188,\n",
       "       1.98168718, 5.03909869, 5.96474926, 2.80807702, 1.26211323])"
      ]
     },
     "execution_count": 59,
     "metadata": {},
     "output_type": "execute_result"
    }
   ],
   "source": [
    "np.random.normal(5,2,10) # # Ten samples from N(5, 2)"
   ]
  },
  {
   "cell_type": "markdown",
   "metadata": {},
   "source": [
    "**beta(a, b, size=None)**: samples from a beta distribution. commonly used in bayesian statistics"
   ]
  },
  {
   "cell_type": "code",
   "execution_count": 60,
   "metadata": {},
   "outputs": [
    {
     "data": {
      "text/plain": [
       "array([0.29591079, 0.10513296, 0.95002605, 0.042954  , 0.45723243,\n",
       "       0.37029304, 0.70949989, 0.99865987, 0.98299856, 0.98661603])"
      ]
     },
     "execution_count": 60,
     "metadata": {},
     "output_type": "execute_result"
    }
   ],
   "source": [
    "np.random.beta(0.5,0.5,10)"
   ]
  },
  {
   "cell_type": "markdown",
   "metadata": {},
   "source": [
    "**chisquare(df, size=None)**: Draws samples from a chi-square distribution with degrees of freedom `df`. Often used in hypothesis testing"
   ]
  },
  {
   "cell_type": "code",
   "execution_count": 61,
   "metadata": {},
   "outputs": [
    {
     "data": {
      "text/plain": [
       "array([0.38406269, 2.77766033, 2.89555772, 0.53583832, 1.57877623])"
      ]
     },
     "execution_count": 61,
     "metadata": {},
     "output_type": "execute_result"
    }
   ],
   "source": [
    "np.random.chisquare(2, size=5)  # Five samples from a chi-square distribution with 2 degrees of freedom\n"
   ]
  },
  {
   "cell_type": "markdown",
   "metadata": {},
   "source": [
    "**gamma(shape, scale=1.0, size=None)**: samples from a gamma distribution, often used to model waiting times"
   ]
  },
  {
   "cell_type": "code",
   "execution_count": 62,
   "metadata": {},
   "outputs": [
    {
     "data": {
      "text/plain": [
       "array([4.85850324, 4.40552689, 1.72981068, 2.51139238, 4.86453441])"
      ]
     },
     "execution_count": 62,
     "metadata": {},
     "output_type": "execute_result"
    }
   ],
   "source": [
    "np.random.gamma(2, 2, 5)  # Five samples from a gamma distribution with shape=2 and scale=2\n"
   ]
  }
 ],
 "metadata": {
  "kernelspec": {
   "display_name": "env1",
   "language": "python",
   "name": "python3"
  },
  "language_info": {
   "codemirror_mode": {
    "name": "ipython",
    "version": 3
   },
   "file_extension": ".py",
   "mimetype": "text/x-python",
   "name": "python",
   "nbconvert_exporter": "python",
   "pygments_lexer": "ipython3",
   "version": "3.12.7"
  }
 },
 "nbformat": 4,
 "nbformat_minor": 2
}
