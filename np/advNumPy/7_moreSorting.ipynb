{
 "cells": [
  {
   "cell_type": "code",
   "execution_count": 10,
   "metadata": {},
   "outputs": [
    {
     "data": {
      "text/plain": [
       "array([-1.42382504,  1.26372846, -0.87066174, -0.25917323, -0.07534331])"
      ]
     },
     "execution_count": 10,
     "metadata": {},
     "output_type": "execute_result"
    }
   ],
   "source": [
    "import numpy as np\n",
    "\n",
    "# the ndarray sort instance method is an in-place sort, meaning that the array contents are rearranged without producing a new array\n",
    "# when sorting arrays in place, remember that if the array is a view on a different ndarray, the original array will be modified\n",
    "\n",
    "rng = np.random.default_rng(seed=12345)\n",
    "arr = rng.standard_normal(5)\n",
    "arr.sort\n",
    "arr"
   ]
  },
  {
   "cell_type": "code",
   "execution_count": 11,
   "metadata": {},
   "outputs": [
    {
     "data": {
      "text/plain": [
       "array([[-0.74088465, -1.3677927 ,  0.6488928 ,  0.36105811, -1.95286306],\n",
       "       [ 2.34740965,  0.96849691, -0.75938718,  0.90219827, -0.46695317],\n",
       "       [-0.06068952,  0.78884434, -1.25666813,  0.57585751,  1.39897899]])"
      ]
     },
     "execution_count": 11,
     "metadata": {},
     "output_type": "execute_result"
    }
   ],
   "source": [
    "arr = rng.standard_normal((3,5))\n",
    "arr"
   ]
  },
  {
   "cell_type": "code",
   "execution_count": 12,
   "metadata": {},
   "outputs": [
    {
     "data": {
      "text/plain": [
       "array([[-0.74088465, -1.3677927 ,  0.6488928 ,  0.36105811, -1.95286306],\n",
       "       [-0.06068952,  0.96849691, -0.75938718,  0.90219827, -0.46695317],\n",
       "       [ 2.34740965,  0.78884434, -1.25666813,  0.57585751,  1.39897899]])"
      ]
     },
     "execution_count": 12,
     "metadata": {},
     "output_type": "execute_result"
    }
   ],
   "source": [
    "arr[:, 0].sort() # sort first column values in place\n",
    "arr"
   ]
  },
  {
   "cell_type": "code",
   "execution_count": 13,
   "metadata": {},
   "outputs": [
    {
     "data": {
      "text/plain": [
       "array([ 1.32229806, -0.29969852,  0.90291934, -1.62158273, -0.15818926])"
      ]
     },
     "execution_count": 13,
     "metadata": {},
     "output_type": "execute_result"
    }
   ],
   "source": [
    "# numpy.sort creates a new, sorted copy of an array\n",
    "arr = rng.standard_normal(5)\n",
    "arr"
   ]
  },
  {
   "cell_type": "code",
   "execution_count": 15,
   "metadata": {},
   "outputs": [
    {
     "name": "stdout",
     "output_type": "stream",
     "text": [
      "[-1.62158273 -0.29969852 -0.15818926  0.90291934  1.32229806]\n",
      "[ 1.32229806 -0.29969852  0.90291934 -1.62158273 -0.15818926]\n"
     ]
    }
   ],
   "source": [
    "print(np.sort(arr))\n",
    "print(arr)"
   ]
  },
  {
   "cell_type": "code",
   "execution_count": 16,
   "metadata": {},
   "outputs": [
    {
     "data": {
      "text/plain": [
       "array([[ 0.44948393, -1.34360107, -0.08168759,  1.72473993,  2.61815943],\n",
       "       [ 0.77736134,  0.8286332 , -0.95898831, -1.20938829, -1.41229201],\n",
       "       [ 0.54154683,  0.7519394 , -0.65876032, -1.22867499,  0.25755777]])"
      ]
     },
     "execution_count": 16,
     "metadata": {},
     "output_type": "execute_result"
    }
   ],
   "source": [
    "# All of these sort methods take an axis argument for independently sorting the sections of data along the passed axis\n",
    "arr = rng.standard_normal((3,5))\n",
    "arr"
   ]
  },
  {
   "cell_type": "code",
   "execution_count": 18,
   "metadata": {},
   "outputs": [
    {
     "data": {
      "text/plain": [
       "array([[-1.34360107, -0.08168759,  0.44948393,  1.72473993,  2.61815943],\n",
       "       [-1.41229201, -1.20938829, -0.95898831,  0.77736134,  0.8286332 ],\n",
       "       [-1.22867499, -0.65876032,  0.25755777,  0.54154683,  0.7519394 ]])"
      ]
     },
     "execution_count": 18,
     "metadata": {},
     "output_type": "execute_result"
    }
   ],
   "source": [
    "arr.sort(axis=1)\n",
    "arr"
   ]
  },
  {
   "cell_type": "code",
   "execution_count": 19,
   "metadata": {},
   "outputs": [
    {
     "data": {
      "text/plain": [
       "array([[ 2.61815943,  1.72473993,  0.44948393, -0.08168759, -1.34360107],\n",
       "       [ 0.8286332 ,  0.77736134, -0.95898831, -1.20938829, -1.41229201],\n",
       "       [ 0.7519394 ,  0.54154683,  0.25755777, -0.65876032, -1.22867499]])"
      ]
     },
     "execution_count": 19,
     "metadata": {},
     "output_type": "execute_result"
    }
   ],
   "source": [
    "# descending order\n",
    "arr[:, ::-1]"
   ]
  },
  {
   "cell_type": "markdown",
   "metadata": {},
   "source": [
    "## Indirect Sorts: argsort and lexsort\n",
    "Indirect sorts are techniques where we don't sort the actual data directly, but instead return indices that can be used to reorder the data"
   ]
  },
  {
   "cell_type": "code",
   "execution_count": 20,
   "metadata": {},
   "outputs": [
    {
     "name": "stdout",
     "output_type": "stream",
     "text": [
      "Indices: [3 1 2 0]\n",
      "Sorted Array: [10 20 30 50]\n"
     ]
    }
   ],
   "source": [
    "# np.argsort\n",
    "# purpose: returns the indices that would sort the array\n",
    "# how it works: it computes the permutation of indices required to sort the array\n",
    "\n",
    "arr = np.array([50, 20, 30, 10])\n",
    "\n",
    "# Get the indices that would sort the array\n",
    "indices = np.argsort(arr)\n",
    "print(\"Indices:\", indices) \n",
    "\n",
    "# Use these indices to sort the array\n",
    "sorted_arr = arr[indices]\n",
    "print(\"Sorted Array:\", sorted_arr) \n"
   ]
  },
  {
   "cell_type": "code",
   "execution_count": 21,
   "metadata": {},
   "outputs": [
    {
     "name": "stdout",
     "output_type": "stream",
     "text": [
      "Indices: [1 3 0 2]\n",
      "Sorted Names:\n",
      "['Jones' 'Smith' 'Smith' 'Williams']\n",
      "['Adam' 'Anna' 'John' 'Eve']\n"
     ]
    }
   ],
   "source": [
    "# np.lexsort\n",
    "# purpose: performs an indirect sort using multiple keys\n",
    "# how it works: it sorts data lexicographically, starting from the last key provided\n",
    "\n",
    "# Create two keys: last names and first names\n",
    "last_names = np.array(['Smith', 'Jones', 'Williams', 'Smith'])\n",
    "first_names = np.array(['John', 'Adam', 'Eve', 'Anna'])\n",
    "\n",
    "# Perform a lexicographical sort\n",
    "indices = np.lexsort((first_names, last_names))\n",
    "print(\"Indices:\", indices)  # Output: [1 3 0 2]\n",
    "\n",
    "# Use indices to reorder data\n",
    "sorted_last_names = last_names[indices]\n",
    "sorted_first_names = first_names[indices]\n",
    "print(\"Sorted Names:\")\n",
    "print(sorted_last_names)   \n",
    "print(sorted_first_names)  \n"
   ]
  },
  {
   "cell_type": "code",
   "execution_count": 28,
   "metadata": {},
   "outputs": [
    {
     "name": "stdout",
     "output_type": "stream",
     "text": [
      "Sorted Indices: [2 0 1 3]\n",
      "Sorted Data:\n",
      "Names: ['Charlie' 'Alice' 'Bob' 'David']\n",
      "Ages: [25 25 30 35]\n",
      "Scores: [95 90 85 88]\n"
     ]
    }
   ],
   "source": [
    "# combined example \n",
    "\n",
    "# Create some data\n",
    "names = np.array(['Alice', 'Bob', 'Charlie', 'David'])\n",
    "ages = np.array([25, 30, 25, 35])\n",
    "scores = np.array([90, 85, 95, 88])\n",
    "\n",
    "# Sort by age, then by score (descending)\n",
    "indices = np.lexsort((-scores, ages))  # '-' for descending order\n",
    "print(\"Sorted Indices:\", indices)  # Output: [2 0 1 3]\n",
    "\n",
    "# Reorder the data\n",
    "sorted_names = names[indices]\n",
    "sorted_ages = ages[indices]\n",
    "sorted_scores = scores[indices]\n",
    "print(\"Sorted Data:\")\n",
    "print(\"Names:\", sorted_names)   \n",
    "print(\"Ages:\", sorted_ages)    \n",
    "print(\"Scores:\", sorted_scores) \n",
    "\n",
    "# list(zip(names[indices], ages[indices], scores[indices]))\n"
   ]
  },
  {
   "cell_type": "markdown",
   "metadata": {},
   "source": [
    "# Stable Sort Algorithm\n",
    "- maintains the relative order of equal elements in the original array after sorting\n",
    "- means that if two elements are equal in value, their order in the sorted array will be the same as their order in the input\n",
    "#### Why Stability Matters\n",
    "- in preserving original order\n",
    "- combining multiple sorts\n",
    "\n",
    "Example: bubble sort, insertion sort, merge sort, TimSort"
   ]
  },
  {
   "cell_type": "markdown",
   "metadata": {},
   "source": [
    "# Partially Sorting Arrays\n",
    "NumPy has fast methods, numpy.partition and np.argpartition, for partitioning an array around the k-th smallest element"
   ]
  },
  {
   "cell_type": "code",
   "execution_count": 24,
   "metadata": {},
   "outputs": [
    {
     "data": {
      "text/plain": [
       "array([-1.42382504,  1.26372846, -0.87066174, -0.25917323, -0.07534331,\n",
       "       -0.74088465, -1.3677927 ,  0.6488928 ,  0.36105811, -1.95286306,\n",
       "        2.34740965,  0.96849691, -0.75938718,  0.90219827, -0.46695317,\n",
       "       -0.06068952,  0.78884434, -1.25666813,  0.57585751,  1.39897899])"
      ]
     },
     "execution_count": 24,
     "metadata": {},
     "output_type": "execute_result"
    }
   ],
   "source": [
    "rng = np.random.default_rng(12345)\n",
    "arr = rng.standard_normal(20)\n",
    "arr"
   ]
  },
  {
   "cell_type": "code",
   "execution_count": 25,
   "metadata": {},
   "outputs": [
    {
     "data": {
      "text/plain": [
       "array([-1.95286306, -1.42382504, -1.3677927 , -1.25666813, -0.87066174,\n",
       "       -0.75938718, -0.74088465, -0.46695317, -0.25917323, -0.07534331,\n",
       "       -0.06068952,  0.36105811,  0.57585751,  0.6488928 ,  0.78884434,\n",
       "        0.90219827,  0.96849691,  1.26372846,  1.39897899,  2.34740965])"
      ]
     },
     "execution_count": 25,
     "metadata": {},
     "output_type": "execute_result"
    }
   ],
   "source": [
    "# np.partition reorders the array so that the k smallest elements are on the left, and the remaining elements are on the right\n",
    "np.partition(arr, 3) \n",
    "# the first 3 element in the result are the smallest three values in no particular order."
   ]
  },
  {
   "cell_type": "code",
   "execution_count": 26,
   "metadata": {},
   "outputs": [
    {
     "data": {
      "text/plain": [
       "array([ 9,  0,  6, 17,  2, 12,  5, 14,  3,  4, 15,  8, 18,  7, 16, 13, 11,\n",
       "        1, 19, 10])"
      ]
     },
     "execution_count": 26,
     "metadata": {},
     "output_type": "execute_result"
    }
   ],
   "source": [
    "# np.argpartition returns the indices of the array as if it were partially sorted\n",
    "# useful when you want to retrive the smallest or largest elements without modifying the original array\n",
    "indices = np.argpartition(arr, 3)\n",
    "indices"
   ]
  },
  {
   "cell_type": "markdown",
   "metadata": {},
   "source": [
    "# numpy.searchsorted: Finding Elements in a Sorted Array\n",
    "searchsorted is an array method that performs a binary search on a sorted array, returning the location in the array where the value would need to inserted to maintain sortedness"
   ]
  },
  {
   "cell_type": "code",
   "execution_count": 29,
   "metadata": {},
   "outputs": [
    {
     "data": {
      "text/plain": [
       "np.int64(3)"
      ]
     },
     "execution_count": 29,
     "metadata": {},
     "output_type": "execute_result"
    }
   ],
   "source": [
    "arr = np.array([0,1,7,12,15])\n",
    "arr.searchsorted(9)"
   ]
  },
  {
   "cell_type": "code",
   "execution_count": 30,
   "metadata": {},
   "outputs": [
    {
     "data": {
      "text/plain": [
       "array([0, 3, 3, 5])"
      ]
     },
     "execution_count": 30,
     "metadata": {},
     "output_type": "execute_result"
    }
   ],
   "source": [
    "# You can also pass an array of values to get an array of indices back:\n",
    "arr.searchsorted([0,8,11,16])"
   ]
  },
  {
   "cell_type": "code",
   "execution_count": 31,
   "metadata": {},
   "outputs": [
    {
     "data": {
      "text/plain": [
       "array([0, 3])"
      ]
     },
     "execution_count": 31,
     "metadata": {},
     "output_type": "execute_result"
    }
   ],
   "source": [
    "# You might have noticed that searchsorted returned 0 for the 0 element. \n",
    "# This is because the default behavior is to return the index at the left side of a group of equal values\n",
    "arr = np.array([0,0,0,1,1,1,1])\n",
    "arr.searchsorted([0,1])"
   ]
  },
  {
   "cell_type": "code",
   "execution_count": 33,
   "metadata": {},
   "outputs": [
    {
     "data": {
      "text/plain": [
       "array([3, 7])"
      ]
     },
     "execution_count": 33,
     "metadata": {},
     "output_type": "execute_result"
    }
   ],
   "source": [
    "arr.searchsorted([0,1], side='right')"
   ]
  }
 ],
 "metadata": {
  "kernelspec": {
   "display_name": "env1",
   "language": "python",
   "name": "python3"
  },
  "language_info": {
   "codemirror_mode": {
    "name": "ipython",
    "version": 3
   },
   "file_extension": ".py",
   "mimetype": "text/x-python",
   "name": "python",
   "nbconvert_exporter": "python",
   "pygments_lexer": "ipython3",
   "version": "3.12.7"
  }
 },
 "nbformat": 4,
 "nbformat_minor": 2
}
