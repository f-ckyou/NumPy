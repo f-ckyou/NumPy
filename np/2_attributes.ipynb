{
 "cells": [
  {
   "cell_type": "code",
   "execution_count": 2,
   "metadata": {},
   "outputs": [],
   "source": [
    "import numpy as np"
   ]
  },
  {
   "cell_type": "markdown",
   "metadata": {},
   "source": [
    " ### ndarrays attributes"
   ]
  },
  {
   "cell_type": "code",
   "execution_count": 3,
   "metadata": {},
   "outputs": [
    {
     "data": {
      "text/plain": [
       "(6,)"
      ]
     },
     "execution_count": 3,
     "metadata": {},
     "output_type": "execute_result"
    }
   ],
   "source": [
    "# ndarray.shape\n",
    "arr1 = np.array([1,2,3,4,5,6])\n",
    "arr1.shape"
   ]
  },
  {
   "cell_type": "code",
   "execution_count": 4,
   "metadata": {},
   "outputs": [
    {
     "data": {
      "text/plain": [
       "(2, 3)"
      ]
     },
     "execution_count": 4,
     "metadata": {},
     "output_type": "execute_result"
    }
   ],
   "source": [
    "arr2 = np.array([[1,2,3],[4,5,6]])\n",
    "arr2.shape"
   ]
  },
  {
   "cell_type": "code",
   "execution_count": 5,
   "metadata": {},
   "outputs": [
    {
     "data": {
      "text/plain": [
       "(2, 2, 2)"
      ]
     },
     "execution_count": 5,
     "metadata": {},
     "output_type": "execute_result"
    }
   ],
   "source": [
    "arr3 = np.array([[[1, 2], [3, 4]], [[5, 6], [7, 8]]])\n",
    "arr3.shape"
   ]
  },
  {
   "cell_type": "code",
   "execution_count": 6,
   "metadata": {},
   "outputs": [
    {
     "data": {
      "text/plain": [
       "array([[1, 2],\n",
       "       [3, 4],\n",
       "       [5, 6]])"
      ]
     },
     "execution_count": 6,
     "metadata": {},
     "output_type": "execute_result"
    }
   ],
   "source": [
    "# access the shape using .shape\n",
    "# reshape an array by assigning a new shape using .reshape()\n",
    "# total number of elements must remain the same\n",
    "arr1_reshaped = arr1.reshape((3,2))\n",
    "arr1_reshaped"
   ]
  },
  {
   "cell_type": "code",
   "execution_count": 7,
   "metadata": {},
   "outputs": [
    {
     "data": {
      "text/plain": [
       "6"
      ]
     },
     "execution_count": 7,
     "metadata": {},
     "output_type": "execute_result"
    }
   ],
   "source": [
    "# ndarray.size\n",
    "arr1.size"
   ]
  },
  {
   "cell_type": "code",
   "execution_count": 8,
   "metadata": {},
   "outputs": [
    {
     "data": {
      "text/plain": [
       "6"
      ]
     },
     "execution_count": 8,
     "metadata": {},
     "output_type": "execute_result"
    }
   ],
   "source": [
    "arr2.size"
   ]
  },
  {
   "cell_type": "code",
   "execution_count": 9,
   "metadata": {},
   "outputs": [
    {
     "data": {
      "text/plain": [
       "8"
      ]
     },
     "execution_count": 9,
     "metadata": {},
     "output_type": "execute_result"
    }
   ],
   "source": [
    "arr3.size"
   ]
  },
  {
   "cell_type": "code",
   "execution_count": 10,
   "metadata": {},
   "outputs": [
    {
     "data": {
      "text/plain": [
       "1"
      ]
     },
     "execution_count": 10,
     "metadata": {},
     "output_type": "execute_result"
    }
   ],
   "source": [
    "# ndarray.ndim\n",
    "arr1.ndim"
   ]
  },
  {
   "cell_type": "code",
   "execution_count": 11,
   "metadata": {},
   "outputs": [
    {
     "data": {
      "text/plain": [
       "2"
      ]
     },
     "execution_count": 11,
     "metadata": {},
     "output_type": "execute_result"
    }
   ],
   "source": [
    "arr2.ndim"
   ]
  },
  {
   "cell_type": "code",
   "execution_count": 12,
   "metadata": {},
   "outputs": [
    {
     "data": {
      "text/plain": [
       "3"
      ]
     },
     "execution_count": 12,
     "metadata": {},
     "output_type": "execute_result"
    }
   ],
   "source": [
    "arr3.ndim"
   ]
  },
  {
   "cell_type": "code",
   "execution_count": 20,
   "metadata": {},
   "outputs": [],
   "source": [
    "# ndarray.dtype\n",
    "# represents the data type of elements stored in the array\n",
    "arr_int = np.array([1, 2, 3], dtype=np.int32)\n",
    "arr_float = np.array([1.1, 2.0, 3.0], dtype=np.float64)\n",
    "arr_str = np.array(['a', 'b', 'c'], dtype=np.str_)"
   ]
  },
  {
   "cell_type": "code",
   "execution_count": 21,
   "metadata": {},
   "outputs": [
    {
     "data": {
      "text/plain": [
       "dtype('int32')"
      ]
     },
     "execution_count": 21,
     "metadata": {},
     "output_type": "execute_result"
    }
   ],
   "source": [
    "arr_int.dtype"
   ]
  },
  {
   "cell_type": "code",
   "execution_count": 22,
   "metadata": {},
   "outputs": [
    {
     "data": {
      "text/plain": [
       "dtype('float64')"
      ]
     },
     "execution_count": 22,
     "metadata": {},
     "output_type": "execute_result"
    }
   ],
   "source": [
    "arr_float.dtype"
   ]
  },
  {
   "cell_type": "code",
   "execution_count": 23,
   "metadata": {},
   "outputs": [
    {
     "data": {
      "text/plain": [
       "dtype('<U1')"
      ]
     },
     "execution_count": 23,
     "metadata": {},
     "output_type": "execute_result"
    }
   ],
   "source": [
    "arr_str.dtype"
   ]
  },
  {
   "cell_type": "code",
   "execution_count": 24,
   "metadata": {},
   "outputs": [
    {
     "data": {
      "text/plain": [
       "array([1, 2, 3], dtype=int32)"
      ]
     },
     "execution_count": 24,
     "metadata": {},
     "output_type": "execute_result"
    }
   ],
   "source": [
    "# can convert an array to a different data type using astype(), {creates a new array}\n",
    "arr_float_to_int = arr_float.astype(np.int32)\n",
    "arr_float_to_int"
   ]
  },
  {
   "cell_type": "code",
   "execution_count": 25,
   "metadata": {},
   "outputs": [
    {
     "data": {
      "text/plain": [
       "4"
      ]
     },
     "execution_count": 25,
     "metadata": {},
     "output_type": "execute_result"
    }
   ],
   "source": [
    "# itemsize : returns the size in bytes of each element in the array\n",
    "arr_int.itemsize"
   ]
  },
  {
   "cell_type": "code",
   "execution_count": 26,
   "metadata": {},
   "outputs": [
    {
     "data": {
      "text/plain": [
       "12"
      ]
     },
     "execution_count": 26,
     "metadata": {},
     "output_type": "execute_result"
    }
   ],
   "source": [
    "# nbytes: returns total no of bytes consumed by the array\n",
    "arr_int.nbytes"
   ]
  },
  {
   "cell_type": "markdown",
   "metadata": {},
   "source": [
    "### dtypes for ndarrays\n",
    "special object containing the info (data about data, metadata)\n",
    "\n",
    "\n",
    "| **Data Type**         | **Description**                                      | **Example**                    |\n",
    "|-----------------------|------------------------------------------------------|--------------------------------|\n",
    "| **Integer Types**     |                                                      |                                |\n",
    "| `np.int8`             | 8-bit signed integer                                 | `-128` to `127`                |\n",
    "| `np.int16`            | 16-bit signed integer                                | `-32768` to `32767`            |\n",
    "| `np.int32`            | 32-bit signed integer                                | `-2^31` to `2^31-1`            |\n",
    "| `np.int64`            | 64-bit signed integer                                | `-2^63` to `2^63-1`            |\n",
    "| `np.uint8`            | 8-bit unsigned integer                               | `0` to `255`                   |\n",
    "| `np.uint16`           | 16-bit unsigned integer                              | `0` to `65535`                 |\n",
    "| `np.uint32`           | 32-bit unsigned integer                              | `0` to `2^32-1`                |\n",
    "| `np.uint64`           | 64-bit unsigned integer                              | `0` to `2^64-1`                |\n",
    "| **Floating-Point Types** |                                                  |                                |\n",
    "| `np.float16`          | 16-bit half precision floating-point                 |                                |\n",
    "| `np.float32`          | 32-bit single precision floating-point               |                                |\n",
    "| `np.float64`          | 64-bit double precision floating-point               |                                |\n",
    "| **Complex Number Types** |                                                |                                |\n",
    "| `np.complex64`        | Complex number represented by two 32-bit floats      |                                |\n",
    "| `np.complex128`       | Complex number represented by two 64-bit floats      |                                |\n",
    "| **Boolean Type**      |                                                      |                                |\n",
    "| `np.bool_`            | Boolean (True or False)                              | `True`, `False`                |\n",
    "| **String Types**      |                                                      |                                |\n",
    "| `np.str_`             | Unicode string with variable length                  | `\"hello\"`                      |\n",
    "| `np.unicode_`         | Alias for `np.str_`, represents Unicode text         | `\"こんにちは\"`                 |\n",
    "| `np.string_`          | Fixed-width ASCII string (bytes)                     | `b\"hello\"`                     |\n",
    "| `np.bytes_`           | Alias for `np.string_`, for binary (byte) strings    | `b\"data\"`                      |\n",
    "| **Object Type**       |                                                      |                                |\n",
    "| `np.object_`          | General Python objects                               | Any Python object              |\n",
    "| **Datetime Types**    |                                                      |                                |\n",
    "| `np.datetime64`       | Dates in ISO format (e.g., `YYYY-MM-DD`)             | `np.datetime64('2023-01-01')`  |\n",
    "| **Timedelta Types**   |                                                      |                                |\n",
    "| `np.timedelta64`      | Time duration (difference between dates)             | `np.timedelta64(5, 'D')`       |\n",
    "\n",
    "### Key Notes:\n",
    "- `np.str_` and `np.unicode_` represent Unicode strings, while `np.string_` is specifically for ASCII strings.\n",
    "- `np.bytes_` and `np.string_` store fixed-width byte-encoded strings.\n",
    "- `np.datetime64` and `np.timedelta64` are useful for date-time computations and time intervals.\n"
   ]
  },
  {
   "cell_type": "markdown",
   "metadata": {},
   "source": [
    "data types helps for interacting with data coming from other systems. <br>\n",
    "they provide a mapping directly onto an underlying disk or memory representation, which makes it possible to read and write binary streams of data to disk & to connect the code written in C or FORTAN <br>\n",
    "signed integer can represent both positive and negative integers <br>\n",
    "unsigned integer can only represent nonzero integers"
   ]
  },
  {
   "cell_type": "code",
   "execution_count": 27,
   "metadata": {},
   "outputs": [
    {
     "data": {
      "text/plain": [
       "dtype('int64')"
      ]
     },
     "execution_count": 27,
     "metadata": {},
     "output_type": "execute_result"
    }
   ],
   "source": [
    "# explicitly casting\n",
    "arr = np.array([1,2,3])\n",
    "arr.dtype"
   ]
  },
  {
   "cell_type": "code",
   "execution_count": 28,
   "metadata": {},
   "outputs": [
    {
     "data": {
      "text/plain": [
       "array([1., 2., 3.])"
      ]
     },
     "execution_count": 28,
     "metadata": {},
     "output_type": "execute_result"
    }
   ],
   "source": [
    "float_arr = arr.astype(np.float64)\n",
    "float_arr"
   ]
  },
  {
   "cell_type": "code",
   "execution_count": 31,
   "metadata": {},
   "outputs": [
    {
     "data": {
      "text/plain": [
       "array([  1,   4, -68], dtype=int32)"
      ]
     },
     "execution_count": 31,
     "metadata": {},
     "output_type": "execute_result"
    }
   ],
   "source": [
    "arr = np.array([1.3, 4.56, -68.2])\n",
    "arr.astype(np.int32) # decimal part will be truncated\n"
   ]
  },
  {
   "cell_type": "code",
   "execution_count": 34,
   "metadata": {},
   "outputs": [
    {
     "data": {
      "text/plain": [
       "array([ 1.25, -9.6 , 42.  ])"
      ]
     },
     "execution_count": 34,
     "metadata": {},
     "output_type": "execute_result"
    }
   ],
   "source": [
    "numeric_strings = np.array([\"1.25\", \"-9.6\", \"42\"], dtype=np.bytes_)\n",
    "numeric_strings.astype(float)"
   ]
  },
  {
   "cell_type": "code",
   "execution_count": 35,
   "metadata": {},
   "outputs": [
    {
     "data": {
      "text/plain": [
       "array([0., 1., 2., 3., 4., 5., 6., 7., 8., 9.])"
      ]
     },
     "execution_count": 35,
     "metadata": {},
     "output_type": "execute_result"
    }
   ],
   "source": [
    "# using another array's dtype attribute\n",
    "int_array = np.arange(10)\n",
    "calibers = np.array([2.2, -3.4])\n",
    "int_array.astype(calibers.dtype)"
   ]
  },
  {
   "cell_type": "markdown",
   "metadata": {},
   "source": [
    "calling `astype` always create new array "
   ]
  }
 ],
 "metadata": {
  "kernelspec": {
   "display_name": "env1",
   "language": "python",
   "name": "python3"
  },
  "language_info": {
   "codemirror_mode": {
    "name": "ipython",
    "version": 3
   },
   "file_extension": ".py",
   "mimetype": "text/x-python",
   "name": "python",
   "nbconvert_exporter": "python",
   "pygments_lexer": "ipython3",
   "version": "3.12.7"
  }
 },
 "nbformat": 4,
 "nbformat_minor": 2
}
