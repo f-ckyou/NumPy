{
 "cells": [
  {
   "cell_type": "markdown",
   "metadata": {},
   "source": [
    "### **Universal functions (ufuncs)**:\n",
    "- are highly optimized functions in NumPy that perform element-wise operations on arrays\n",
    "- enable you to apply mathematical functions across all elements of an array without using explicit loops\n",
    "\n",
    "#### Types of Universal Functions:\n",
    "- Unary Ufuncs: operate on a single array performing an operation on each element\n",
    "- Binary Ufuncs: operate on two arrays element wise, usually performing arithmetic or comparison operations"
   ]
  },
  {
   "cell_type": "code",
   "execution_count": 3,
   "metadata": {},
   "outputs": [],
   "source": [
    "import numpy as np"
   ]
  },
  {
   "cell_type": "code",
   "execution_count": 4,
   "metadata": {},
   "outputs": [
    {
     "data": {
      "text/plain": [
       "array([0, 1, 2, 3, 4, 5, 6, 7, 8, 9])"
      ]
     },
     "execution_count": 4,
     "metadata": {},
     "output_type": "execute_result"
    }
   ],
   "source": [
    "arr = np.arange(10)\n",
    "arr"
   ]
  },
  {
   "cell_type": "code",
   "execution_count": 6,
   "metadata": {},
   "outputs": [
    {
     "data": {
      "text/plain": [
       "array([0.        , 1.        , 1.41421356, 1.73205081, 2.        ,\n",
       "       2.23606798, 2.44948974, 2.64575131, 2.82842712, 3.        ])"
      ]
     },
     "execution_count": 6,
     "metadata": {},
     "output_type": "execute_result"
    }
   ],
   "source": [
    "np.sqrt(arr)"
   ]
  },
  {
   "cell_type": "code",
   "execution_count": 7,
   "metadata": {},
   "outputs": [
    {
     "data": {
      "text/plain": [
       "array([1.00000000e+00, 2.71828183e+00, 7.38905610e+00, 2.00855369e+01,\n",
       "       5.45981500e+01, 1.48413159e+02, 4.03428793e+02, 1.09663316e+03,\n",
       "       2.98095799e+03, 8.10308393e+03])"
      ]
     },
     "execution_count": 7,
     "metadata": {},
     "output_type": "execute_result"
    }
   ],
   "source": [
    "np.exp(arr)"
   ]
  },
  {
   "cell_type": "code",
   "execution_count": 8,
   "metadata": {},
   "outputs": [],
   "source": [
    "rng = np.random.default_rng(seed=12345)"
   ]
  },
  {
   "cell_type": "code",
   "execution_count": 9,
   "metadata": {},
   "outputs": [],
   "source": [
    "x = rng.standard_normal(8)\n",
    "y = rng.standard_normal(8)"
   ]
  },
  {
   "cell_type": "code",
   "execution_count": 10,
   "metadata": {},
   "outputs": [
    {
     "data": {
      "text/plain": [
       "array([-1.42382504,  1.26372846, -0.87066174, -0.25917323, -0.07534331,\n",
       "       -0.74088465, -1.3677927 ,  0.6488928 ])"
      ]
     },
     "execution_count": 10,
     "metadata": {},
     "output_type": "execute_result"
    }
   ],
   "source": [
    "x"
   ]
  },
  {
   "cell_type": "code",
   "execution_count": 11,
   "metadata": {},
   "outputs": [
    {
     "data": {
      "text/plain": [
       "array([ 0.36105811, -1.95286306,  2.34740965,  0.96849691, -0.75938718,\n",
       "        0.90219827, -0.46695317, -0.06068952])"
      ]
     },
     "execution_count": 11,
     "metadata": {},
     "output_type": "execute_result"
    }
   ],
   "source": [
    "y"
   ]
  },
  {
   "cell_type": "code",
   "execution_count": 13,
   "metadata": {},
   "outputs": [
    {
     "data": {
      "text/plain": [
       "array([ 0.36105811,  1.26372846,  2.34740965,  0.96849691, -0.07534331,\n",
       "        0.90219827, -0.46695317,  0.6488928 ])"
      ]
     },
     "execution_count": 13,
     "metadata": {},
     "output_type": "execute_result"
    }
   ],
   "source": [
    "np.maximum(x,y) # element-wise maximum of the elements in x and y"
   ]
  },
  {
   "cell_type": "markdown",
   "metadata": {},
   "source": [
    "**numpy.modf**: a ufunc that can return multiple arrays\n",
    "- a vectorized version of the built-in Python math.modf\n",
    "- it returns the fractional and integral parts of a floating-point array"
   ]
  },
  {
   "cell_type": "code",
   "execution_count": 14,
   "metadata": {},
   "outputs": [
    {
     "data": {
      "text/plain": [
       "array([ 3.94422172, -6.28334067,  2.87928757,  6.99489497,  6.6114903 ,\n",
       "       -1.49849258,  4.51459671])"
      ]
     },
     "execution_count": 14,
     "metadata": {},
     "output_type": "execute_result"
    }
   ],
   "source": [
    "arr = rng.standard_normal(7) * 5\n",
    "arr"
   ]
  },
  {
   "cell_type": "code",
   "execution_count": 15,
   "metadata": {},
   "outputs": [],
   "source": [
    "remainder, whole_part = np.modf(arr)"
   ]
  },
  {
   "cell_type": "code",
   "execution_count": 16,
   "metadata": {},
   "outputs": [
    {
     "data": {
      "text/plain": [
       "array([ 0.94422172, -0.28334067,  0.87928757,  0.99489497,  0.6114903 ,\n",
       "       -0.49849258,  0.51459671])"
      ]
     },
     "execution_count": 16,
     "metadata": {},
     "output_type": "execute_result"
    }
   ],
   "source": [
    "remainder"
   ]
  },
  {
   "cell_type": "code",
   "execution_count": 17,
   "metadata": {},
   "outputs": [
    {
     "data": {
      "text/plain": [
       "array([ 3., -6.,  2.,  6.,  6., -1.,  4.])"
      ]
     },
     "execution_count": 17,
     "metadata": {},
     "output_type": "execute_result"
    }
   ],
   "source": [
    "whole_part"
   ]
  },
  {
   "cell_type": "markdown",
   "metadata": {},
   "source": [
    "**NOTE**: \n",
    "- ufuncs provide an optional `out` argument that allows you to specify an existing array to store the result of the operation.\n",
    "- helpful when want to save memory by reusing an existing array rather than creating a new one"
   ]
  },
  {
   "cell_type": "code",
   "execution_count": 22,
   "metadata": {},
   "outputs": [
    {
     "data": {
      "text/plain": [
       "array([ 5.5146, -7.1079,  0.2091,  3.2474, -5.718 ,  0.5916,  9.6237])"
      ]
     },
     "execution_count": 22,
     "metadata": {},
     "output_type": "execute_result"
    }
   ],
   "source": [
    "# original array\n",
    "arr = np.array([4.5146, -8.1079, -0.7909, 2.2474, -6.718, -0.4084, 8.6237])\n",
    "\n",
    "# creating an output array \n",
    "output = np.zeros_like(arr) # creates an array with the same shape as arr but filled with zeros\n",
    "\n",
    "np.add(arr,1) # returns a new array with the result\n",
    "# without specifying \"out\", a new array is created to hold this result"
   ]
  },
  {
   "cell_type": "code",
   "execution_count": 23,
   "metadata": {},
   "outputs": [
    {
     "data": {
      "text/plain": [
       "array([ 5.5146, -7.1079,  0.2091,  3.2474, -5.718 ,  0.5916,  9.6237])"
      ]
     },
     "execution_count": 23,
     "metadata": {},
     "output_type": "execute_result"
    }
   ],
   "source": [
    "# using np.add with out argument\n",
    "np.add(arr,1, out=output) # we directly tell to store the result into the output array rather than creating a new array"
   ]
  },
  {
   "cell_type": "code",
   "execution_count": 25,
   "metadata": {},
   "outputs": [
    {
     "data": {
      "text/plain": [
       "array([ 5.5146, -7.1079,  0.2091,  3.2474, -5.718 ,  0.5916,  9.6237])"
      ]
     },
     "execution_count": 25,
     "metadata": {},
     "output_type": "execute_result"
    }
   ],
   "source": [
    "output"
   ]
  },
  {
   "cell_type": "markdown",
   "metadata": {},
   "source": [
    "difference: \n",
    "- `np.add(arr, 1, out=output)`: stores the result directly in the pre-existing `output` array\n",
    "- `output = np.add(arr, 1)`: creates a new array to store the result and assigns it to `output`"
   ]
  },
  {
   "cell_type": "markdown",
   "metadata": {},
   "source": [
    "\n",
    "\n",
    "---\n",
    "\n",
    "### Table . Some Unary Universal Functions\n",
    "\n",
    "| Function                 | Description                                                                                                                |\n",
    "|--------------------------|----------------------------------------------------------------------------------------------------------------------------|\n",
    "| `abs`, `fabs`            | Compute the absolute value element-wise for integer, floating-point, or complex values                                     |\n",
    "| `sqrt`                   | Compute the square root of each element (equivalent to `arr ** 0.5`)                                                       |\n",
    "| `square`                 | Compute the square of each element (equivalent to `arr ** 2`)                                                              |\n",
    "| `exp`                    | Compute the exponent \\( e^x \\) of each element                                                                             |\n",
    "| `log`, `log10`, `log2`, `log1p` | Natural logarithm (base \\( e \\)), log base 10, log base 2, and log(1 + x), respectively                               |\n",
    "| `sign`                   | Compute the sign of each element: 1 (positive), 0 (zero), or –1 (negative)                                                 |\n",
    "| `ceil`                   | Compute the ceiling of each element (i.e., the smallest integer greater than or equal to that number)                      |\n",
    "| `floor`                  | Compute the floor of each element (i.e., the largest integer less than or equal to each element)                           |\n",
    "| `rint`                   | Round elements to the nearest integer, preserving the dtype                                                                |\n",
    "| `modf`                   | Return fractional and integral parts of array as separate arrays                                                           |\n",
    "| `isnan`                  | Return Boolean array indicating whether each value is NaN (Not a Number)                                                   |\n",
    "| `isfinite`, `isinf`      | Return Boolean array indicating whether each element is finite (non-inf, non-NaN) or infinite, respectively                |\n",
    "| `cos`, `cosh`, `sin`, `sinh`, `tan`, `tanh` | Regular and hyperbolic trigonometric functions                                                       |\n",
    "| `arccos`, `arccosh`, `arcsin`, `arcsinh`, `arctan`, `arctanh` | Inverse trigonometric functions                                                  |\n",
    "| `logical_not`            | Compute truth value of not x element-wise (equivalent to `~arr`)                                                           |\n",
    "\n",
    "---\n",
    "\n",
    "### Table . Some Binary Universal Functions\n",
    "\n",
    "| Function                  | Description                                                                                                            |\n",
    "|---------------------------|------------------------------------------------------------------------------------------------------------------------|\n",
    "| `add`                     | Add corresponding elements in arrays                                                                                   |\n",
    "| `subtract`                | Subtract elements in second array from first array                                                                     |\n",
    "| `multiply`                | Multiply array elements                                                                                                |\n",
    "| `divide`, `floor_divide`  | Divide or floor divide (truncating the remainder)                                                                      |\n",
    "| `power`                   | Raise elements in first array to powers indicated in second array                                                     |\n",
    "| `maximum`, `fmax`         | Element-wise maximum; `fmax` ignores NaN                                                                              |\n",
    "| `minimum`, `fmin`         | Element-wise minimum; `fmin` ignores NaN                                                                              |\n",
    "| `mod`                     | Element-wise modulus (remainder of division)                                                                          |\n",
    "| `copysign`                | Copy sign of values in second argument to values in first argument                                                    |\n",
    "| `greater`, `greater_equal`, `less`, `less_equal`, `equal`, `not_equal` | Perform element-wise comparison, yielding Boolean array (equivalent to infix operators `>`, `>=`, `<`, `<=`, `==`, `!=`) |\n",
    "| `logical_and`             | Compute element-wise truth value of AND (`&`) logical operation                                                        |\n",
    "| `logical_or`              | Compute element-wise truth value of OR (`|`) logical operation                                                        |\n",
    "| `logical_xor`             | Compute element-wise truth value of XOR (`^`) logical operation                                                       |\n",
    "\n",
    "---\n"
   ]
  }
 ],
 "metadata": {
  "kernelspec": {
   "display_name": "env1",
   "language": "python",
   "name": "python3"
  },
  "language_info": {
   "codemirror_mode": {
    "name": "ipython",
    "version": 3
   },
   "file_extension": ".py",
   "mimetype": "text/x-python",
   "name": "python",
   "nbconvert_exporter": "python",
   "pygments_lexer": "ipython3",
   "version": "3.12.7"
  }
 },
 "nbformat": 4,
 "nbformat_minor": 2
}
