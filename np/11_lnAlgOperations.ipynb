{
 "cells": [
  {
   "cell_type": "markdown",
   "metadata": {},
   "source": [
    "#### Linear Algebra in NumPy"
   ]
  },
  {
   "cell_type": "code",
   "execution_count": 19,
   "metadata": {},
   "outputs": [],
   "source": [
    "import numpy as np"
   ]
  },
  {
   "cell_type": "markdown",
   "metadata": {},
   "source": [
    "#### Basics: Vectors and Matrices"
   ]
  },
  {
   "cell_type": "code",
   "execution_count": 20,
   "metadata": {},
   "outputs": [
    {
     "name": "stdout",
     "output_type": "stream",
     "text": [
      "vector:  [1 2 3]\n",
      "matrix: \n",
      " [[1 2 3]\n",
      " [4 5 6]]\n"
     ]
    }
   ],
   "source": [
    "# Creating Vectors\n",
    "\n",
    "# vectors are essentially one-dimensional arrays in NumPy\n",
    "v = np.array([1,2,3])\n",
    "print(\"vector: \", v)\n",
    "\n",
    "# Creating Matrices\n",
    "# matrices are two-dimensional arrays\n",
    "m = np.array([[1,2,3],[4,5,6]])\n",
    "print(\"matrix: \\n\", m)"
   ]
  },
  {
   "cell_type": "markdown",
   "metadata": {},
   "source": [
    "### Basic Linear Algebra Operations"
   ]
  },
  {
   "cell_type": "code",
   "execution_count": 21,
   "metadata": {},
   "outputs": [
    {
     "name": "stdout",
     "output_type": "stream",
     "text": [
      "addition:  [5 7 9]\n",
      "subtraction : [-3 -3 -3]\n"
     ]
    }
   ],
   "source": [
    "# Vector Addition and Subtraction\n",
    "# operations are element-wise\n",
    "v1 = np.array([1,2,3])\n",
    "v2 = np.array([4,5,6])\n",
    "print(\"addition: \", v1 + v2)\n",
    "print(\"subtraction :\", v1 - v2)"
   ]
  },
  {
   "cell_type": "code",
   "execution_count": 22,
   "metadata": {},
   "outputs": [
    {
     "name": "stdout",
     "output_type": "stream",
     "text": [
      "(vector):  [3 6 9]\n",
      "(matrix):\n",
      " [[ 3  6  9]\n",
      " [12 15 18]]\n"
     ]
    }
   ],
   "source": [
    "# Scalar Multiplication\n",
    "# multiply a scalar with a vector or matrix\n",
    "scalar = 3\n",
    "print(\"(vector): \", scalar*v)\n",
    "print(\"(matrix):\\n\",scalar*m)"
   ]
  },
  {
   "cell_type": "code",
   "execution_count": 23,
   "metadata": {},
   "outputs": [
    {
     "name": "stdout",
     "output_type": "stream",
     "text": [
      "addition:\n",
      " [[ 5  8]\n",
      " [12 14]]\n",
      "subtraction:\n",
      " [[-3 -4]\n",
      " [-4 -4]]\n"
     ]
    }
   ],
   "source": [
    "# Matrix Addition and Subtraction\n",
    "# must of same dimensions\n",
    "m1 = np.array([[1,2],[4,5]])\n",
    "m2 = np.array([[4,6],[8,9]])\n",
    "print(\"addition:\\n\", m1+m2)\n",
    "print(\"subtraction:\\n\", m1-m2)"
   ]
  },
  {
   "cell_type": "code",
   "execution_count": 24,
   "metadata": {},
   "outputs": [
    {
     "name": "stdout",
     "output_type": "stream",
     "text": [
      "32\n"
     ]
    }
   ],
   "source": [
    "# Dot Product of Vectors\n",
    "# the dot product of two vectors is a scalar\n",
    "dot_product = np.dot(v1,v2)\n",
    "print(dot_product)"
   ]
  },
  {
   "cell_type": "code",
   "execution_count": 26,
   "metadata": {},
   "outputs": [
    {
     "name": "stdout",
     "output_type": "stream",
     "text": [
      "(dot):\n",
      " [[20 24]\n",
      " [56 69]]\n",
      "(@):\n",
      " [[20 24]\n",
      " [56 69]]\n"
     ]
    }
   ],
   "source": [
    "# Matrix Multiplication\n",
    "# use np.dot or the @ operator to perform matrix multiplication\n",
    "result = np.dot(m1,m2)\n",
    "print(\"(dot):\\n\",result)\n",
    "result = m1@m2\n",
    "print(\"(@):\\n\",result)"
   ]
  },
  {
   "cell_type": "code",
   "execution_count": 27,
   "metadata": {},
   "outputs": [
    {
     "name": "stdout",
     "output_type": "stream",
     "text": [
      "transpose of m1:\n",
      " [[1 4]\n",
      " [2 5]]\n"
     ]
    }
   ],
   "source": [
    "# Transpose of a Matrix\n",
    "# swap rows and columns\n",
    "print(\"transpose of m1:\\n\", m1.T)"
   ]
  },
  {
   "cell_type": "code",
   "execution_count": 28,
   "metadata": {},
   "outputs": [
    {
     "name": "stdout",
     "output_type": "stream",
     "text": [
      "[[ 4 12]\n",
      " [32 45]]\n"
     ]
    }
   ],
   "source": [
    "# Element Wise Multiplication\n",
    "# use *\n",
    "elementwise = m1*m2\n",
    "print(elementwise)"
   ]
  },
  {
   "cell_type": "markdown",
   "metadata": {},
   "source": [
    "## `np.linalg` functions"
   ]
  },
  {
   "cell_type": "markdown",
   "metadata": {},
   "source": [
    "##### Solving Systems of Linear Equations (`np.linalg.solve`)\n",
    "A system of linear equations can be written in matrix form as $ Ax = b $, where:\n",
    "- $ A $ is a matrix of coefficients,\n",
    "- $ x $ is a column vector of variables,\n",
    "- $ b $ is a column vector of constants <br>\n",
    "The solution, $ x $ represents the values of variables that satisfy all equations simultaneously. <br>\n",
    "If $ A $ is invertible, we can find $ x $ by calculating $ x = A^{-1} b $\n",
    "<br>\n",
    "- np.linalg.solve(A,b) is specially designed to solve for $ x $ efficiently without explicitly computing $ A^{-1} $ which is computationally expensive\n"
   ]
  },
  {
   "cell_type": "code",
   "execution_count": 29,
   "metadata": {},
   "outputs": [
    {
     "name": "stdout",
     "output_type": "stream",
     "text": [
      "x:  [2.2 3.6]\n"
     ]
    }
   ],
   "source": [
    "A = np.array([[2,1],[1,3]])\n",
    "b = np.array([8,13])\n",
    "x = np.linalg.solve(A,b)\n",
    "print(\"x: \",x)"
   ]
  },
  {
   "cell_type": "markdown",
   "metadata": {},
   "source": [
    "##### Inverse of a Matrix (`np.linalg.inv`)\n",
    "- The inverse of a matrix $A$, denoted $A^{-1}$, is defined such that $ A.A^{-1} = I $, where $I$ is the identity matrix\n",
    "- Inverting a matrix is only possible if the matrix is square and non-singular (determinant ≠ 0)"
   ]
  },
  {
   "cell_type": "code",
   "execution_count": 30,
   "metadata": {},
   "outputs": [
    {
     "name": "stdout",
     "output_type": "stream",
     "text": [
      "Inverse of A: \n",
      " [[ 0.6 -0.2]\n",
      " [-0.2  0.4]]\n"
     ]
    }
   ],
   "source": [
    "inverse_A = np.linalg.inv(A)\n",
    "print(\"Inverse of A: \\n\", inverse_A)"
   ]
  },
  {
   "cell_type": "markdown",
   "metadata": {},
   "source": [
    "##### Determinant of a Matrix (`np.linalg.det`)\n",
    "- A zero determinant indicates that the matrix is singular (non-invertible)\n",
    "- The absolute value of the determinant can be interpreted as the \"volume scaling factor\" of the linear transformation represented by the matrix\n",
    "\n",
    "- useful for determining invertibility and understanding transformations\n",
    "- If det(A) ≠ 0, the system has a unique solution.\n",
    "- If det(A) = 0, the system either has no solution or an infinite number of solutions."
   ]
  },
  {
   "cell_type": "code",
   "execution_count": 31,
   "metadata": {},
   "outputs": [
    {
     "name": "stdout",
     "output_type": "stream",
     "text": [
      "determinant of A: 5.000000000000001\n"
     ]
    }
   ],
   "source": [
    "det_A = np.linalg.det(A)\n",
    "print(\"determinant of A:\", det_A)"
   ]
  },
  {
   "cell_type": "markdown",
   "metadata": {},
   "source": [
    "##### Eigenvalues and Eigenvectors (`np.linalg.eig`)\n",
    "For a square matrix $A$, an eigenvector $V$ and its corresponding eigenvalue $\\lambda $ satisfy the equation: $Av = \\lambda v$\n",
    "- Eigenvalues tell us about the \"stretching\" factor along the direction of their corresponding eigenvectors\n",
    "- Eigenvectors give directions that remain unchanged by the transformation AA, except for scaling\n",
    "\n",
    "- np.linalg.eig(A) returns eigenvalues and eigenvectors of A"
   ]
  },
  {
   "cell_type": "code",
   "execution_count": 32,
   "metadata": {},
   "outputs": [
    {
     "name": "stdout",
     "output_type": "stream",
     "text": [
      "Eigenvalues: [1.38196601 3.61803399]\n",
      "Eigenvectors:\n",
      " [[-0.85065081 -0.52573111]\n",
      " [ 0.52573111 -0.85065081]]\n"
     ]
    }
   ],
   "source": [
    "eigenvalues, eigenvectors = np.linalg.eig(A)\n",
    "print(\"Eigenvalues:\", eigenvalues)\n",
    "print(\"Eigenvectors:\\n\",eigenvectors)"
   ]
  },
  {
   "cell_type": "markdown",
   "metadata": {},
   "source": [
    "##### Matrix Norms (`np.linalg.norm`)\n",
    "The norm of a vector or matrix is a measure of its \"size\" or \"length\"\n",
    "- **L2 norm** (Euclidean) measures the straight-line distance from the origin\n",
    "- **L1 norm** (Manhattan) measures distance by summing absolute values of each component\n",
    "- ther norms, such as Frobenius norm, are used specifically for matrices\n",
    "\n",
    "- np.linalg.norm(x, ord=None) computes various norms depending on the value of ord\n",
    "- Common norms: L2 norm (default), L1 norm (ord=1), infinity norm (ord=np.inf)"
   ]
  },
  {
   "cell_type": "code",
   "execution_count": 33,
   "metadata": {},
   "outputs": [
    {
     "name": "stdout",
     "output_type": "stream",
     "text": [
      "Norm:  5.0\n"
     ]
    }
   ],
   "source": [
    "x = np.array([3,4])\n",
    "norm_x = np.linalg.norm(x) # default L2 norm\n",
    "print(\"Norm: \",norm_x)"
   ]
  },
  {
   "cell_type": "markdown",
   "metadata": {},
   "source": [
    "##### Singular Value Decomposition (SVD) (`np.linalg.svd`)\n",
    "SVD decomposes a matrix AAA into three matrices: $ A=U \\Sigma V^∗ $\n",
    "\n",
    "-   UUU: Left singular vectors, representing orthogonal directions.\n",
    "-   Σ\\SigmaΣ: Diagonal matrix of singular values, showing the amount of stretching in each direction.\n",
    "-   V∗V^*V∗: Right singular vectors, representing orthogonal directions in the output space.\n",
    "\n",
    "-   `np.linalg.svd(A)` returns the matrices U, $\\Sigma$, and V^*.\n",
    "-   SVD is essential in data compression, dimensionality reduction, and image processing."
   ]
  },
  {
   "cell_type": "code",
   "execution_count": 34,
   "metadata": {},
   "outputs": [
    {
     "name": "stdout",
     "output_type": "stream",
     "text": [
      "U:\n",
      " [[-0.2298477   0.88346102  0.40824829]\n",
      " [-0.52474482  0.24078249 -0.81649658]\n",
      " [-0.81964194 -0.40189603  0.40824829]]\n",
      "Sigma: [9.52551809 0.51430058]\n",
      "Vt:\n",
      " [[-0.61962948 -0.78489445]\n",
      " [-0.78489445  0.61962948]]\n"
     ]
    }
   ],
   "source": [
    "C = np.array([[1, 2], [3, 4], [5, 6]])\n",
    "\n",
    "U, Sigma, Vt = np.linalg.svd(C)\n",
    "print(\"U:\\n\", U)\n",
    "print(\"Sigma:\", Sigma)\n",
    "print(\"Vt:\\n\", Vt)"
   ]
  },
  {
   "cell_type": "markdown",
   "metadata": {},
   "source": [
    "##### QR Decomposition (`np.linalg.qr`)\n",
    "QR decomposition factors a matrix AAA into: $ A=QR $\n",
    "\n",
    "-   Q: An orthogonal matrix.\n",
    "-   R: An upper triangular matrix.\n",
    "\n",
    "-   `np.linalg.qr(A)` returns Q and R.\n",
    "-   Useful for solving linear systems and least-squares fitting."
   ]
  },
  {
   "cell_type": "code",
   "execution_count": 35,
   "metadata": {},
   "outputs": [
    {
     "name": "stdout",
     "output_type": "stream",
     "text": [
      "U:\n",
      " [[-0.2298477   0.88346102  0.40824829]\n",
      " [-0.52474482  0.24078249 -0.81649658]\n",
      " [-0.81964194 -0.40189603  0.40824829]]\n",
      "Sigma: [9.52551809 0.51430058]\n",
      "Vt:\n",
      " [[-0.61962948 -0.78489445]\n",
      " [-0.78489445  0.61962948]]\n"
     ]
    }
   ],
   "source": [
    "C = np.array([[1, 2], [3, 4], [5, 6]])\n",
    "\n",
    "U, Sigma, Vt = np.linalg.svd(C)\n",
    "print(\"U:\\n\", U)\n",
    "print(\"Sigma:\", Sigma)\n",
    "print(\"Vt:\\n\", Vt)"
   ]
  },
  {
   "cell_type": "markdown",
   "metadata": {},
   "source": [
    "##### Cholesky Decomposition (`np.linalg.cholesky`)\n",
    "Cholesky decomposition is a specific decomposition for symmetric, positive-definite matrices: $A=LL^T$\n",
    "\n",
    "-   L: A lower triangular matrix.\n",
    "-   Faster than other decompositions, making it suitable for numerical methods where positive-definite matrices are guaranteed (e.g., in optimization problems).\n",
    "\n",
    "-   `np.linalg.cholesky(A)` returns L.\n",
    "-   Limited to positive-definite matrices; used in optimization and simulation"
   ]
  },
  {
   "cell_type": "code",
   "execution_count": 36,
   "metadata": {},
   "outputs": [
    {
     "name": "stdout",
     "output_type": "stream",
     "text": [
      "Cholesky factor L:\n",
      " [[2.         0.        ]\n",
      " [1.         1.41421356]]\n"
     ]
    }
   ],
   "source": [
    "E = np.array([[4, 2], [2, 3]])\n",
    "\n",
    "L = np.linalg.cholesky(E)\n",
    "print(\"Cholesky factor L:\\n\", L)"
   ]
  },
  {
   "cell_type": "markdown",
   "metadata": {},
   "source": [
    "##### Trace of a Matrix (`np.trace`)\n",
    "The trace of a matrix is the sum of its diagonal elements\n",
    "- Represents an invariant under change of basis\n",
    "- Often used in matrix transformations and certain types of optimizations\n",
    "- Useful in many areas, such as physics in machine learning"
   ]
  },
  {
   "cell_type": "code",
   "execution_count": 37,
   "metadata": {},
   "outputs": [
    {
     "name": "stdout",
     "output_type": "stream",
     "text": [
      "Trace of F: 5\n"
     ]
    }
   ],
   "source": [
    "F = np.array([[1, 2], [3, 4]])\n",
    "\n",
    "trace_F = np.trace(F)\n",
    "print(\"Trace of F:\", trace_F)"
   ]
  },
  {
   "cell_type": "markdown",
   "metadata": {},
   "source": [
    "#####  Condition Number (`np.linalg.cond`)\n",
    "The conditional number measures how sensitive a matrix is to changes or errors in calculations\n",
    "- A high condition number means the matrix is \"ill-conditioned\" and may lead to unstable solutions\n",
    "- Low values indicate stability and accuracy in calculations\n",
    "- Useful to evaluate the reliability of solutions when performing matrix inversions or solving equations"
   ]
  },
  {
   "cell_type": "code",
   "execution_count": 38,
   "metadata": {},
   "outputs": [
    {
     "name": "stdout",
     "output_type": "stream",
     "text": [
      "Condition number of G: 14.933034373659268\n"
     ]
    }
   ],
   "source": [
    "G = np.array([[1, 2], [3, 4]])\n",
    "\n",
    "cond_G = np.linalg.cond(G)\n",
    "print(\"Condition number of G:\", cond_G)"
   ]
  }
 ],
 "metadata": {
  "kernelspec": {
   "display_name": "env1",
   "language": "python",
   "name": "python3"
  },
  "language_info": {
   "codemirror_mode": {
    "name": "ipython",
    "version": 3
   },
   "file_extension": ".py",
   "mimetype": "text/x-python",
   "name": "python",
   "nbconvert_exporter": "python",
   "pygments_lexer": "ipython3",
   "version": "3.12.7"
  }
 },
 "nbformat": 4,
 "nbformat_minor": 2
}
