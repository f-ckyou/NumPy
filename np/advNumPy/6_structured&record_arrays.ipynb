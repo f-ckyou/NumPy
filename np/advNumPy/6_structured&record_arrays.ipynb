{
 "cells": [
  {
   "cell_type": "code",
   "execution_count": 2,
   "metadata": {},
   "outputs": [],
   "source": [
    "import numpy as np"
   ]
  },
  {
   "cell_type": "markdown",
   "metadata": {},
   "source": [
    "## Structured ndarray\n",
    "- A structured array is an ndarray in which each element can be thought of as representing a struct in C (hence the “structured” name)\n",
    "- Structured arrays allow you to define a custom data structure with multiple fields (columns), each with its own name and data type.\n",
    "- Creation: define a data type (dtype) with named fields, where each field has a specific type."
   ]
  },
  {
   "cell_type": "markdown",
   "metadata": {},
   "source": [
    "Benefits: \n",
    "- efficiently store data with multiple types in one array\n",
    "- suitable for handling complex datasets like rows in a CSV file, where each column can have a different type\n",
    "- can act as a lightweight alternative to a DataFrame if you're dealing with simpler datasets in NumPy "
   ]
  },
  {
   "cell_type": "markdown",
   "metadata": {},
   "source": [
    "Ideal for: \n",
    "- writing and reading data to/from disk (including memory maps)\n",
    "- transporting data over a network\n",
    "- interfacing with C-style binary data formats"
   ]
  },
  {
   "cell_type": "code",
   "execution_count": 5,
   "metadata": {},
   "outputs": [
    {
     "name": "stdout",
     "output_type": "stream",
     "text": [
      "[('Alice', 25, 55.5) ('Bob', 30, 85.2) ('Cathy', 28, 68.3)]\n"
     ]
    }
   ],
   "source": [
    "dtype = [('name', 'U10'), ('age', 'i4'), ('weight', 'f4')]\n",
    "# name is a string with up to 10characters\n",
    "# age is a 32bit integer\n",
    "# weight is a 32bit floating point number\n",
    "data = np.array([('Alice', 25, 55.5), ('Bob', 30, 85.2), ('Cathy', 28, 68.3)], dtype=dtype)\n",
    "print(data)\n",
    "\n",
    "# the data array now stores info in a structured format. can be accessed by each field by name"
   ]
  },
  {
   "cell_type": "code",
   "execution_count": 7,
   "metadata": {},
   "outputs": [
    {
     "name": "stdout",
     "output_type": "stream",
     "text": [
      "['Alice' 'Bob' 'Cathy']\n",
      "[25 30 28]\n",
      "('Alice', 25, 55.5)\n"
     ]
    }
   ],
   "source": [
    "# accessing fields\n",
    "print(data['name'])\n",
    "print(data['age'])\n",
    "\n",
    "print(data[0])"
   ]
  },
  {
   "cell_type": "markdown",
   "metadata": {},
   "source": [
    "### Nested Data Types"
   ]
  },
  {
   "cell_type": "code",
   "execution_count": 9,
   "metadata": {},
   "outputs": [
    {
     "name": "stdout",
     "output_type": "stream",
     "text": [
      "[(('apple', 24), 56.3) (('Bob', 45), 89.5)]\n"
     ]
    }
   ],
   "source": [
    "dtype = [\n",
    "    ('person', [('name', 'U10'), ('age', 'i4')]),\n",
    "    ('weight', 'f4')\n",
    "]\n",
    "\n",
    "data = np.array([\n",
    "    (('apple', 24), 56.3),\n",
    "    (('Bob', 45), 89.5)\n",
    "], dtype=dtype)\n",
    "print(data)"
   ]
  },
  {
   "cell_type": "code",
   "execution_count": 11,
   "metadata": {},
   "outputs": [
    {
     "name": "stdout",
     "output_type": "stream",
     "text": [
      "[('apple', 24) ('Bob', 45)]\n",
      "['apple' 'Bob']\n",
      "[24 45]\n",
      "(('apple', 24), 56.3)\n"
     ]
    }
   ],
   "source": [
    "print(data['person'])\n",
    "print(data['person']['name'])\n",
    "print(data['person']['age'])\n",
    "print(data[0])"
   ]
  },
  {
   "cell_type": "markdown",
   "metadata": {},
   "source": [
    "### Multidimensional Fields\n",
    "useful for storing structured data where one or more fields naturally represent arrays of values"
   ]
  },
  {
   "cell_type": "code",
   "execution_count": 12,
   "metadata": {},
   "outputs": [
    {
     "name": "stdout",
     "output_type": "stream",
     "text": [
      "[('Alice', [85. , 90.5, 78. ]) ('Bob', [72. , 88.5, 91. ])]\n"
     ]
    }
   ],
   "source": [
    "dtype = [\n",
    "    ('name', 'U10'),\n",
    "    ('scores', 'f4', (3,)) # Multidimensional field: a 1D array with 3 elements\n",
    "]\n",
    "\n",
    "data = np.array([\n",
    "    ('Alice', [85.0, 90.5, 78.0]),\n",
    "    ('Bob', [72.0, 88.5, 91.0])\n",
    "], dtype=dtype)\n",
    "\n",
    "print(data)"
   ]
  },
  {
   "cell_type": "code",
   "execution_count": 13,
   "metadata": {},
   "outputs": [
    {
     "name": "stdout",
     "output_type": "stream",
     "text": [
      "['Alice' 'Bob']\n",
      "[[85.  90.5 78. ]\n",
      " [72.  88.5 91. ]]\n",
      "[85.  90.5 78. ]\n",
      "90.5\n"
     ]
    }
   ],
   "source": [
    "print(data['name'])\n",
    "print(data['scores'])\n",
    "\n",
    "print(data['scores'][0])\n",
    "print(data['scores'][0][1])"
   ]
  },
  {
   "cell_type": "markdown",
   "metadata": {},
   "source": [
    "- nested data type: allows fields to contain subfields, enabling hierarchical data structures\n",
    "- multidimensional fields: allow fields to store arrays as part of structured data "
   ]
  },
  {
   "cell_type": "markdown",
   "metadata": {},
   "source": [
    "## Record Arrays\n",
    "- subclass of structured arrays that add the ability to access fields as attrributes, making them more convenient for interactive use\n",
    "- To create a record array, you can use `np.recarray` or convert an existing structured array using `np.core.records.fromarrays`"
   ]
  },
  {
   "cell_type": "code",
   "execution_count": 16,
   "metadata": {},
   "outputs": [
    {
     "name": "stdout",
     "output_type": "stream",
     "text": [
      "['Alice' 'Bob' 'Cathy']\n",
      "[25 30 28]\n"
     ]
    }
   ],
   "source": [
    "dtype = [('name', 'U10'), ('age', 'i4'), ('weight', 'f4')]\n",
    "data = np.array([('Alice', 25, 55.5), ('Bob', 30, 85.2), ('Cathy', 28, 68.3)], dtype=dtype)\n",
    "\n",
    "# Convert the structured array `data` to a record array\n",
    "record_data = data.view(np.recarray)\n",
    "\n",
    "# Access fields as attributes\n",
    "print(record_data.name)  # Output: ['Alice' 'Bob' 'Cathy']\n",
    "print(record_data.age)   # Output: [25 30 28]\n",
    "\n",
    "\n",
    "# With record arrays, you can access the fields using record_data.name instead of record_data['name'], making the syntax cleaner and potentially more readable."
   ]
  }
 ],
 "metadata": {
  "kernelspec": {
   "display_name": "env1",
   "language": "python",
   "name": "python3"
  },
  "language_info": {
   "codemirror_mode": {
    "name": "ipython",
    "version": 3
   },
   "file_extension": ".py",
   "mimetype": "text/x-python",
   "name": "python",
   "nbconvert_exporter": "python",
   "pygments_lexer": "ipython3",
   "version": "3.12.7"
  }
 },
 "nbformat": 4,
 "nbformat_minor": 2
}
