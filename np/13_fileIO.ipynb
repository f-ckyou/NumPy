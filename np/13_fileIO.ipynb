{
 "cells": [
  {
   "cell_type": "code",
   "execution_count": 1,
   "metadata": {},
   "outputs": [],
   "source": [
    "import numpy as np"
   ]
  },
  {
   "cell_type": "markdown",
   "metadata": {},
   "source": [
    "Binary files are computer files that store data in a format that isn't human-readable. They contain raw binary data, which represents machine instructions or data structures.\n",
    "\n",
    "Key characteristics of binary files:\n",
    "\n",
    "1. Not human-readable: Binary files contain raw binary data that isn't easily understandable by humans.\n",
    "\n",
    "2. Machine-specific: They are typically platform-dependent and may not work across different operating systems or hardware architectures.\n",
    "\n",
    "3. Efficient storage: Binary files often store data more efficiently compared to text-based formats.\n",
    "\n",
    "4. Various types: Examples include executable files (.exe), image files (.jpg, .png), audio files (.mp3), video files (.avi, .mov), and compressed files (.zip).\n",
    "\n",
    "5. File extensions: Many binary file types have specific extensions that indicate their purpose or content.\n",
    "\n",
    "6. Data representation: Binary files represent data using binary digits (bits) - either 0 or 1.\n",
    "\n",
    "7. Compression: Some binary files may be compressed to reduce their size, like ZIP archives.\n",
    "\n",
    "Binary files are commonly used in various applications and systems due to their efficient storage and transmission capabilities. However, they can be challenging to work with directly, especially for human users, as they don't contain readable text or structured data"
   ]
  },
  {
   "cell_type": "markdown",
   "metadata": {},
   "source": [
    "#### Saving and Loading Binary Files\n",
    "Binary files save data in a compressed, efficient format that preserves data types and structures, making them faster to load and save compared to text files"
   ]
  },
  {
   "cell_type": "code",
   "execution_count": 6,
   "metadata": {},
   "outputs": [
    {
     "name": "stdout",
     "output_type": "stream",
     "text": [
      "[1 2 3 4 5]\n",
      "[1 2 3]\n",
      "[4 5 6]\n"
     ]
    }
   ],
   "source": [
    "# np.save() & np.load(): save and load individual arrays in NumPy's binary format (.npy)\n",
    "\n",
    "# Saving a single array\n",
    "array = np.array([1, 2, 3, 4, 5])\n",
    "np.save('array_data.npy', array)\n",
    "\n",
    "# Loading the saved array\n",
    "loaded_array = np.load('array_data.npy')\n",
    "print(loaded_array) \n",
    "\n",
    "\n",
    "# np.savez(): save multiple arrays in a compressed .npz file\n",
    "\n",
    "# Saving multiple arrays\n",
    "array1 = np.array([1, 2, 3])\n",
    "array2 = np.array([4, 5, 6])\n",
    "np.savez('arrays_data.npz', arr1=array1, arr2=array2)\n",
    "\n",
    "# Loading multiple arrays\n",
    "loaded_data = np.load('arrays_data.npz')\n",
    "print(loaded_data['arr1']) \n",
    "print(loaded_data['arr2']) "
   ]
  },
  {
   "cell_type": "markdown",
   "metadata": {},
   "source": [
    "#### Text Fles\n",
    "Text files are a common format for datasets, particularly .txt and .csv files. "
   ]
  },
  {
   "cell_type": "code",
   "execution_count": 11,
   "metadata": {},
   "outputs": [
    {
     "name": "stdout",
     "output_type": "stream",
     "text": [
      "[[1 2 3]\n",
      " [4 5 6]]\n",
      "[[1 2 3]\n",
      " [4 5 6]]\n"
     ]
    }
   ],
   "source": [
    "# np.savetxt(): save a 1D or 2D array to a text file, with customizable formatting\n",
    "\n",
    "array = np.array([[1,2,3],[4,5,6]])\n",
    "np.savetxt('array_data.txt', array, fmt='%d', delimiter=',')  # fmt: '%d' specifies the format for saving the numbers. In this case, it indicates that integers should be saved without decimal point.\n",
    "\n",
    "# np.loadtxt(): load data from a text file into a NumPy array. can specify the delimeter and data type\n",
    "loaded_array = np.loadtxt('array_data.txt', delimiter=',', dtype=int)\n",
    "print(loaded_array)\n",
    "\n",
    "# np.genfromtxt(): similar to loadtxt, but it can handle missing values and specify column data types\n",
    "data = np.genfromtxt('array_data.txt', delimiter=',', dtype=int, filling_values=0)\n",
    "print(data)"
   ]
  },
  {
   "cell_type": "markdown",
   "metadata": {},
   "source": [
    "#### Handling CSV Files with np.genfromtxt()\n",
    "for more structured data with headers or mixed data types, "
   ]
  },
  {
   "cell_type": "code",
   "execution_count": 25,
   "metadata": {},
   "outputs": [
    {
     "name": "stdout",
     "output_type": "stream",
     "text": [
      "['booker12' 'grey07' 'johnson81' 'jenkins46' 'smith79']\n"
     ]
    }
   ],
   "source": [
    "data = np.genfromtxt('username.csv', delimiter=';', names=True, dtype=None, encoding=None)\n",
    "'''  \n",
    "names: True indicates that first row of the CSV file contains columns headers\n",
    "dtype: None means that NumPy will automatically determine the data type for each column based on the contents\n",
    "encoding: None indicates that the default encoding will be used (typically 'bytes'), you might specify as 'utf-8'\n",
    "\n",
    "'''   \n",
    "print(data['Username'])"
   ]
  },
  {
   "cell_type": "markdown",
   "metadata": {},
   "source": [
    "#### Binary Data with Memory Mapping\n",
    "When working with very large arrays that won’t fit into memory all at once, you can use memory-mapped files. This allows NumPy to read from disk as if it were in memory, loading only the parts you access"
   ]
  },
  {
   "cell_type": "markdown",
   "metadata": {},
   "source": [
    "#### String Conversion\n",
    "if need to covert between strings and arrays"
   ]
  },
  {
   "cell_type": "code",
   "execution_count": 33,
   "metadata": {},
   "outputs": [
    {
     "name": "stdout",
     "output_type": "stream",
     "text": [
      "[1 2 3]\n",
      "[1. 2. 3. 4. 5.]\n"
     ]
    }
   ],
   "source": [
    "# np.array2string(): converts an array to a string for display or saving in a text format\n",
    "\n",
    "array = np.array([1,2,3])\n",
    "string_data = np.array2string(array)\n",
    "print(string_data)\n",
    "\n",
    "# np.fromstring(): create an array from a string\n",
    "string = '1 2 3 4 5'\n",
    "array = np.fromstring(string, sep=' ')\n",
    "print(array)"
   ]
  }
 ],
 "metadata": {
  "kernelspec": {
   "display_name": "env1",
   "language": "python",
   "name": "python3"
  },
  "language_info": {
   "codemirror_mode": {
    "name": "ipython",
    "version": 3
   },
   "file_extension": ".py",
   "mimetype": "text/x-python",
   "name": "python",
   "nbconvert_exporter": "python",
   "pygments_lexer": "ipython3",
   "version": "3.12.7"
  }
 },
 "nbformat": 4,
 "nbformat_minor": 2
}
