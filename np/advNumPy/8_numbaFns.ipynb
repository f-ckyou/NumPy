{
 "cells": [
  {
   "cell_type": "markdown",
   "metadata": {},
   "source": [
    "# Writing Fast NumPy Functions with Numba\n",
    "- Numba is an open source project that creates fast functions for NumPy-like data using CPUs, GPUs, or other hardware.\n",
    "- Numba significantly speed up numerical computations, especially when working with large arrays\n",
    "\n",
    "Use: \n",
    "- install numba\n",
    "- decorate your functions\n",
    "    - `@numba.jit`: allows compatibility with Python objects but might be slower\n",
    "    - `@numba.njit`: Excludes Python objects, offering faster performance but limited functionality (no Python features like dictionaries or lists)"
   ]
  },
  {
   "cell_type": "code",
   "execution_count": 4,
   "metadata": {},
   "outputs": [
    {
     "name": "stdout",
     "output_type": "stream",
     "text": [
      "5.42 s ± 180 ms per loop (mean ± std. dev. of 7 runs, 1 loop each)\n"
     ]
    }
   ],
   "source": [
    "import numpy as np \n",
    "\n",
    "# computes the expression (x - y).mean() using a for loop\n",
    "def mean_distance(x, y):\n",
    "    if len(x) != len(y):\n",
    "        raise ValueError(\"Arrays x and y must have the same length\")\n",
    "    total_sum = 0 # initialize sum\n",
    "    \n",
    "    for i in range(len(x)):\n",
    "        total_sum += x[i] - y[i] \n",
    "\n",
    "    mean_dist = total_sum / len(x) # compute the mean\n",
    "    return mean_dist\n",
    "\n",
    "# x = [4, 5, 6]\n",
    "# y = [1, 2, 3]\n",
    "# result = mean_distance(x, y)\n",
    "# print(\"Mean distance:\", result)\n",
    "\n",
    "\n",
    "# this function is slow:\n",
    "rng = np.random.default_rng(12345)\n",
    "x = rng.standard_normal(10_000_000)\n",
    "y = rng.standard_normal(10_000_000)\n",
    "\n",
    "%timeit mean_distance(x, y)"
   ]
  },
  {
   "cell_type": "code",
   "execution_count": 5,
   "metadata": {},
   "outputs": [
    {
     "name": "stdout",
     "output_type": "stream",
     "text": [
      "42.9 ms ± 675 μs per loop (mean ± std. dev. of 7 runs, 10 loops each)\n"
     ]
    }
   ],
   "source": [
    "%timeit (x-y).mean()\n",
    "# numpy version is faster\n",
    "\n",
    "# turn this fn into a compiled numba fn "
   ]
  },
  {
   "cell_type": "code",
   "execution_count": 6,
   "metadata": {},
   "outputs": [
    {
     "name": "stdout",
     "output_type": "stream",
     "text": [
      "22.5 ms ± 556 μs per loop (mean ± std. dev. of 7 runs, 1 loop each)\n"
     ]
    }
   ],
   "source": [
    "import numba as nb\n",
    "\n",
    "numba_mean_distance = nb.jit(mean_distance)\n",
    "%timeit numba_mean_distance(x,y)"
   ]
  },
  {
   "cell_type": "code",
   "execution_count": null,
   "metadata": {},
   "outputs": [],
   "source": [
    "# could have used @nb.jit decorator like \n",
    "''' \n",
    "@nb.jit\n",
    "def mean_distance(x, y):\n",
    "    if len(x) != len(y):\n",
    "        raise ValueError(\"Arrays x and y must have the same length\")\n",
    "    total_sum = 0 # initialize sum\n",
    "    \n",
    "    for i in range(len(x)):\n",
    "        total_sum += x[i] - y[i] \n",
    "\n",
    "    mean_dist = total_sum / len(x) # compute the mean\n",
    "    return mean_dist\n",
    "''' \n"
   ]
  },
  {
   "cell_type": "markdown",
   "metadata": {},
   "source": [
    "- numba can't compile all pure python code, but it supports a significant subset of python that is most useful for writing numerical algorithms\n",
    "- numba is a deep library, supporting different kinds of hardware, modes of compilation, and user extensions."
   ]
  },
  {
   "cell_type": "markdown",
   "metadata": {},
   "source": [
    "# Creating Custom numpy.ufunc Objects with Numba\n",
    "the `numba.vectorize` fn creates compiled NumPy ufuncs, which behave like built-in ufuncs"
   ]
  },
  {
   "cell_type": "code",
   "execution_count": 7,
   "metadata": {},
   "outputs": [
    {
     "data": {
      "text/plain": [
       "array([ 0,  2,  4,  6,  8, 10, 12, 14, 16, 18])"
      ]
     },
     "execution_count": 7,
     "metadata": {},
     "output_type": "execute_result"
    }
   ],
   "source": [
    "from numba import vectorize\n",
    "\n",
    "@vectorize\n",
    "def nb_add(x, y):\n",
    "    return x + y\n",
    "\n",
    "x = np.arange(10)\n",
    "nb_add(x, x)"
   ]
  },
  {
   "cell_type": "code",
   "execution_count": 8,
   "metadata": {},
   "outputs": [
    {
     "data": {
      "text/plain": [
       "array([ 0,  1,  3,  6, 10, 15, 21, 28, 36, 45])"
      ]
     },
     "execution_count": 8,
     "metadata": {},
     "output_type": "execute_result"
    }
   ],
   "source": [
    "nb_add.accumulate(x, 0)"
   ]
  }
 ],
 "metadata": {
  "kernelspec": {
   "display_name": "env1",
   "language": "python",
   "name": "python3"
  },
  "language_info": {
   "codemirror_mode": {
    "name": "ipython",
    "version": 3
   },
   "file_extension": ".py",
   "mimetype": "text/x-python",
   "name": "python",
   "nbconvert_exporter": "python",
   "pygments_lexer": "ipython3",
   "version": "3.12.7"
  }
 },
 "nbformat": 4,
 "nbformat_minor": 2
}
