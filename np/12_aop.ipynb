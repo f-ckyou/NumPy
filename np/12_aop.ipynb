{
 "cells": [
  {
   "cell_type": "code",
   "execution_count": 13,
   "metadata": {},
   "outputs": [],
   "source": [
    "import numpy as np"
   ]
  },
  {
   "cell_type": "markdown",
   "metadata": {},
   "source": [
    "##### Evaluate the function $ \\sqrt{x^2 + y^2} $ across a regular grid of values"
   ]
  },
  {
   "cell_type": "code",
   "execution_count": 14,
   "metadata": {},
   "outputs": [
    {
     "name": "stdout",
     "output_type": "stream",
     "text": [
      "xs: \n",
      " [[-3.  -2.9 -2.8 ...  2.7  2.8  2.9]\n",
      " [-3.  -2.9 -2.8 ...  2.7  2.8  2.9]\n",
      " [-3.  -2.9 -2.8 ...  2.7  2.8  2.9]\n",
      " ...\n",
      " [-3.  -2.9 -2.8 ...  2.7  2.8  2.9]\n",
      " [-3.  -2.9 -2.8 ...  2.7  2.8  2.9]\n",
      " [-3.  -2.9 -2.8 ...  2.7  2.8  2.9]]\n",
      "ys: \n",
      " [[-3.  -3.  -3.  ... -3.  -3.  -3. ]\n",
      " [-2.9 -2.9 -2.9 ... -2.9 -2.9 -2.9]\n",
      " [-2.8 -2.8 -2.8 ... -2.8 -2.8 -2.8]\n",
      " ...\n",
      " [ 2.7  2.7  2.7 ...  2.7  2.7  2.7]\n",
      " [ 2.8  2.8  2.8 ...  2.8  2.8  2.8]\n",
      " [ 2.9  2.9  2.9 ...  2.9  2.9  2.9]]\n"
     ]
    }
   ],
   "source": [
    "# numpy.meshgrid fn takes two one-dim arrays and produce two two-dim matrices corresponding to all pairs of (x, y) in the two arrays\n",
    "\n",
    "points = np.arange(-3, 3, 0.1)\n",
    "xs, ys = np.meshgrid(points, points)\n",
    "print(\"xs: \\n\",xs)\n",
    "print(\"ys: \\n\",ys)"
   ]
  },
  {
   "cell_type": "code",
   "execution_count": 15,
   "metadata": {},
   "outputs": [
    {
     "name": "stdout",
     "output_type": "stream",
     "text": [
      "z: \n",
      " [[4.24264069 4.17252921 4.10365691 ... 4.03608721 4.10365691 4.17252921]\n",
      " [4.17252921 4.10121933 4.03112887 ... 3.96232255 4.03112887 4.10121933]\n",
      " [4.10365691 4.03112887 3.95979797 ... 3.88973007 3.95979797 4.03112887]\n",
      " ...\n",
      " [4.03608721 3.96232255 3.88973007 ... 3.81837662 3.88973007 3.96232255]\n",
      " [4.10365691 4.03112887 3.95979797 ... 3.88973007 3.95979797 4.03112887]\n",
      " [4.17252921 4.10121933 4.03112887 ... 3.96232255 4.03112887 4.10121933]]\n"
     ]
    }
   ],
   "source": [
    "# now evaluate the function\n",
    "z = np.sqrt(xs ** 2 + ys ** 2)\n",
    "print(\"z: \\n\",z)"
   ]
  },
  {
   "cell_type": "markdown",
   "metadata": {},
   "source": [
    "##### Expressing Conditional Logic as Array Operations"
   ]
  },
  {
   "cell_type": "code",
   "execution_count": 25,
   "metadata": {},
   "outputs": [
    {
     "name": "stdout",
     "output_type": "stream",
     "text": [
      "[np.float64(1.1), np.float64(2.2), np.float64(1.3), np.float64(1.4), np.float64(2.5)]\n",
      "[1.1 2.2 1.3 1.4 2.5]\n"
     ]
    }
   ],
   "source": [
    "# numpy.where fn is a vectorized version of the ternary expression \" x if condition else y \" \n",
    "\n",
    "xarr = np.array([1.1, 1.2, 1.3, 1.4, 1.5])\n",
    "yarr = np.array([2.1, 2.2, 2.3, 2.4, 2.5])\n",
    "cond = np.array([True, False, True, True, False])\n",
    "\n",
    "'''\n",
    "take value from xarr \n",
    "whenever the corresponding value in cond is True,\n",
    "otherwise take the value from yarr\n",
    "'''\n",
    "\n",
    "# by list comprehension\n",
    "result = [(x if c else y) for x, y, c in zip(xarr, yarr, cond)]\n",
    "print(result)\n",
    "\n",
    "# use numpy.where()\n",
    "result = np.where(cond, xarr, yarr)\n",
    "print(result)\n",
    "\n",
    "# The second and third arguments to numpy.where don’t need to be arrays"
   ]
  },
  {
   "cell_type": "code",
   "execution_count": 29,
   "metadata": {},
   "outputs": [
    {
     "name": "stdout",
     "output_type": "stream",
     "text": [
      "[[-0.0292509   0.6608574   0.55691719 -1.05628745]\n",
      " [-1.00029067 -1.15438013  0.1949741   0.11894854]\n",
      " [ 0.65839372 -0.02020603 -1.10444938 -0.00580745]\n",
      " [-0.30542461 -1.04966719 -0.19814069  0.63087325]]\n",
      "[[False  True  True False]\n",
      " [False False  True  True]\n",
      " [ True False False False]\n",
      " [False False False  True]]\n"
     ]
    },
    {
     "data": {
      "text/plain": [
       "array([[-2,  2,  2, -2],\n",
       "       [-2, -2,  2,  2],\n",
       "       [ 2, -2, -2, -2],\n",
       "       [-2, -2, -2,  2]])"
      ]
     },
     "execution_count": 29,
     "metadata": {},
     "output_type": "execute_result"
    }
   ],
   "source": [
    "# randomly generate a matrix and replace all +ve value with 2 and all -ve values with -2\n",
    "\n",
    "arr = np.random.standard_normal((4,4))\n",
    "print(arr)\n",
    "print(arr > 0)\n",
    "\n",
    "np.where(arr > 0, 2, -2)"
   ]
  },
  {
   "cell_type": "code",
   "execution_count": 32,
   "metadata": {},
   "outputs": [
    {
     "data": {
      "text/plain": [
       "array([[-0.0292509 ,  2.        ,  2.        , -1.05628745],\n",
       "       [-1.00029067, -1.15438013,  2.        ,  2.        ],\n",
       "       [ 2.        , -0.02020603, -1.10444938, -0.00580745],\n",
       "       [-0.30542461, -1.04966719, -0.19814069,  2.        ]])"
      ]
     },
     "execution_count": 32,
     "metadata": {},
     "output_type": "execute_result"
    }
   ],
   "source": [
    "# combine scalars and arrays \n",
    "np.where(arr > 0, 2, arr) # only set positive values to 2"
   ]
  },
  {
   "cell_type": "markdown",
   "metadata": {},
   "source": [
    "\n",
    "\n",
    "| **Approach**         | **Description**                                                                                                      | **Example**                                                                          |\n",
    "|----------------------|----------------------------------------------------------------------------------------------------------------------|--------------------------------------------------------------------------------------|\n",
    "| Boolean Indexing     | Directly apply conditions to filter elements.                                                                       | `array[array > 3] = 0`                                                               |\n",
    "| `np.where()`         | Vectorized `if-else` replacement.                                                                                   | `np.where(array > 3, 10, array)`                                                     |\n",
    "| `np.select()`        | Apply different values or functions based on multiple conditions.                                                   | `np.select([cond1, cond2], [choice1, choice2])`                                      |\n",
    "| Logical Operators    | Combine conditions with `&`, `|`, and `~`.                                                                          | `np.where((array > 2) & (array < 5), -1, array)`                                     |\n",
    "| Masked Arrays        | Mask elements that meet a condition, ignoring them in further calculations.                                         | `np.ma.masked_where(array > 3, array)`                                               |\n",
    "| Conditional Functions| Use `np.where()` or boolean indexing to apply different operations conditionally.                                   | `np.where(array < 3, array ** 2, array * 2)`                                         |\n",
    "\n",
    "These techniques are core to using NumPy for efficient data manipulation, filtering, and computation with conditional logic."
   ]
  },
  {
   "cell_type": "markdown",
   "metadata": {},
   "source": [
    "##### Mathematical and Statistical Methods\n",
    "A set of mathematical functions that compute statistics about an entire array or about the data along an axis are accessible as **methods of the array class**."
   ]
  },
  {
   "cell_type": "code",
   "execution_count": 34,
   "metadata": {},
   "outputs": [
    {
     "data": {
      "text/plain": [
       "array([[ 0.0198949 , -0.29087381],\n",
       "       [ 0.27585448,  1.7523927 ],\n",
       "       [-1.09384082, -0.87024202],\n",
       "       [ 0.33746399, -0.3093474 ],\n",
       "       [-1.98369416, -1.40057408]])"
      ]
     },
     "execution_count": 34,
     "metadata": {},
     "output_type": "execute_result"
    }
   ],
   "source": [
    "arr = np.random.standard_normal((5, 2))\n",
    "arr"
   ]
  },
  {
   "cell_type": "code",
   "execution_count": 35,
   "metadata": {},
   "outputs": [
    {
     "data": {
      "text/plain": [
       "np.float64(-0.3562966216571394)"
      ]
     },
     "execution_count": 35,
     "metadata": {},
     "output_type": "execute_result"
    }
   ],
   "source": [
    "arr.mean()"
   ]
  },
  {
   "cell_type": "code",
   "execution_count": 36,
   "metadata": {},
   "outputs": [
    {
     "data": {
      "text/plain": [
       "np.float64(-0.3562966216571394)"
      ]
     },
     "execution_count": 36,
     "metadata": {},
     "output_type": "execute_result"
    }
   ],
   "source": [
    "np.mean(arr)"
   ]
  },
  {
   "cell_type": "code",
   "execution_count": 37,
   "metadata": {},
   "outputs": [
    {
     "name": "stdout",
     "output_type": "stream",
     "text": [
      "-3.562966216571394\n",
      "[-0.13548945  1.01412359 -0.98204142  0.01405829 -1.69213412]\n",
      "[-2.44432161 -1.1186446 ]\n"
     ]
    }
   ],
   "source": [
    "print(arr.sum())\n",
    "print(arr.mean(axis=1)) # across the columns,\n",
    "print(arr.sum(axis=0))"
   ]
  },
  {
   "cell_type": "code",
   "execution_count": 38,
   "metadata": {},
   "outputs": [
    {
     "name": "stdout",
     "output_type": "stream",
     "text": [
      "[ 0  1  3  6 10 15 21 28]\n"
     ]
    }
   ],
   "source": [
    "arr = np.array([0, 1, 2, 3, 4, 5, 6, 7])\n",
    "print(arr.cumsum())"
   ]
  },
  {
   "cell_type": "code",
   "execution_count": 39,
   "metadata": {},
   "outputs": [
    {
     "data": {
      "text/plain": [
       "array([[0, 1, 2],\n",
       "       [3, 4, 5],\n",
       "       [6, 7, 8]])"
      ]
     },
     "execution_count": 39,
     "metadata": {},
     "output_type": "execute_result"
    }
   ],
   "source": [
    "arr = np.array([[0, 1, 2], [3, 4, 5], [6, 7, 8]])\n",
    "arr"
   ]
  },
  {
   "cell_type": "code",
   "execution_count": 40,
   "metadata": {},
   "outputs": [
    {
     "name": "stdout",
     "output_type": "stream",
     "text": [
      "[[ 0  1  2]\n",
      " [ 3  5  7]\n",
      " [ 9 12 15]]\n",
      "[[ 0  1  3]\n",
      " [ 3  7 12]\n",
      " [ 6 13 21]]\n"
     ]
    }
   ],
   "source": [
    "print(arr.cumsum(axis=0))\n",
    "print(arr.cumsum(axis=1))"
   ]
  },
  {
   "cell_type": "markdown",
   "metadata": {},
   "source": [
    "##### Methods for Boolean Arrays"
   ]
  },
  {
   "cell_type": "code",
   "execution_count": 42,
   "metadata": {},
   "outputs": [
    {
     "name": "stdout",
     "output_type": "stream",
     "text": [
      "55\n",
      "45\n"
     ]
    }
   ],
   "source": [
    "arr = np.random.standard_normal(100)\n",
    "print((arr > 0).sum()) # number of positive values\n",
    "print((arr <= 0).sum()) # number of negative values"
   ]
  },
  {
   "cell_type": "code",
   "execution_count": 44,
   "metadata": {},
   "outputs": [
    {
     "name": "stdout",
     "output_type": "stream",
     "text": [
      "True\n",
      "False\n"
     ]
    }
   ],
   "source": [
    "# any tests wether one or more values in an array is True, while all checks if every value is True\n",
    "bools = np.array([False, False, True, False])\n",
    "print(bools.any())\n",
    "print(bools.all())\n",
    "\n",
    "# These methods also work with non-Boolean arrays, where nonzero elements are treated as True"
   ]
  },
  {
   "cell_type": "markdown",
   "metadata": {},
   "source": [
    "\n",
    "\n",
    "| **Method/Function**        | **Description**                                                                                             | **Example**                                                                                          |\n",
    "|----------------------------|-------------------------------------------------------------------------------------------------------------|------------------------------------------------------------------------------------------------------|\n",
    "| `np.any()`                 | Checks if at least one element in the array is `True` along the specified axis (or in the entire array).    | `np.any([False, True, False])` ➔ `True`                                                             |\n",
    "| `np.all()`                 | Checks if all elements in the array are `True` along the specified axis (or in the entire array).           | `np.all([True, True, False])` ➔ `False`                                                             |\n",
    "| `np.where()`               | Returns the indices of elements that satisfy a condition. Can also be used for conditional replacements.    | `np.where(array > 3)` returns indices of elements > 3                                               |\n",
    "| `np.nonzero()`             | Returns the indices of `True` elements in the boolean array.                                                | `np.nonzero([False, True, False])` ➔ `(array([1]),)`                                               |\n",
    "| `np.count_nonzero()`       | Counts the number of `True` elements in the array.                                                          | `np.count_nonzero([False, True, True])` ➔ `2`                                                       |\n",
    "| `np.logical_and()`         | Element-wise logical `AND` operation between two arrays or conditions.                                      | `np.logical_and([True, False], [True, True])` ➔ `[True, False]`                                     |\n",
    "| `np.logical_or()`          | Element-wise logical `OR` operation between two arrays or conditions.                                       | `np.logical_or([True, False], [False, False])` ➔ `[True, False]`                                    |\n",
    "| `np.logical_not()`         | Element-wise logical negation (`NOT`) of the array.                                                         | `np.logical_not([True, False])` ➔ `[False, True]`                                                   |\n",
    "| `np.logical_xor()`         | Element-wise logical `XOR` (exclusive or) operation between two arrays.                                     | `np.logical_xor([True, False], [False, True])` ➔ `[True, True]`                                     |\n",
    "| `.any()` (method)          | Checks if at least one element in the array is `True`. Equivalent to `np.any()` but used directly on arrays.| `array.any()`                                                                                        |\n",
    "| `.all()` (method)          | Checks if all elements in the array are `True`. Equivalent to `np.all()` but used directly on arrays.       | `array.all()`                                                                                        |\n",
    "\n"
   ]
  },
  {
   "cell_type": "markdown",
   "metadata": {},
   "source": [
    "##### Sorting"
   ]
  },
  {
   "cell_type": "code",
   "execution_count": 46,
   "metadata": {},
   "outputs": [
    {
     "name": "stdout",
     "output_type": "stream",
     "text": [
      "[ 2.61948775  1.29309475  0.94032252  2.20583263 -0.6562154  -0.3469658 ]\n",
      "[-0.6562154  -0.3469658   0.94032252  1.29309475  2.20583263  2.61948775]\n"
     ]
    }
   ],
   "source": [
    "arr = np.random.standard_normal(6)\n",
    "print(arr)\n",
    "\n",
    "print(np.sort(arr))"
   ]
  },
  {
   "cell_type": "code",
   "execution_count": 48,
   "metadata": {},
   "outputs": [
    {
     "name": "stdout",
     "output_type": "stream",
     "text": [
      "[[ 0.68238778  0.18389642 -1.62393919]\n",
      " [-0.21170023 -0.48231745  1.4875443 ]\n",
      " [-0.67826417 -1.62475555  0.64322771]\n",
      " [-0.7635047   1.67573199 -1.10563468]]\n"
     ]
    }
   ],
   "source": [
    "arr = np.random.standard_normal((4,3))\n",
    "print(arr)"
   ]
  },
  {
   "cell_type": "code",
   "execution_count": 51,
   "metadata": {},
   "outputs": [
    {
     "name": "stdout",
     "output_type": "stream",
     "text": [
      "[[-0.7635047  -1.62475555 -1.62393919]\n",
      " [-0.67826417 -0.48231745 -1.10563468]\n",
      " [-0.21170023  0.18389642  0.64322771]\n",
      " [ 0.68238778  1.67573199  1.4875443 ]]\n",
      "[[-1.62475555 -1.62393919 -0.7635047 ]\n",
      " [-1.10563468 -0.67826417 -0.48231745]\n",
      " [-0.21170023  0.18389642  0.64322771]\n",
      " [ 0.68238778  1.4875443   1.67573199]]\n"
     ]
    }
   ],
   "source": [
    "''' \n",
    "arr.sort(axis=0) sorts the values within each column, \n",
    "while arr.sort(axis=1) sorts across each row\n",
    "'''\n",
    "print(np.sort(arr, axis=0))\n",
    "print(np.sort(arr, axis=1))\n",
    "\n",
    "# top-level method numpy.sort returns a sorted copy of an array instead of modifying the array in place"
   ]
  },
  {
   "cell_type": "markdown",
   "metadata": {},
   "source": [
    "\n",
    "\n",
    "| **Function**       | **Description**                                                                                                   | **Example**                                                   |\n",
    "|--------------------|-------------------------------------------------------------------------------------------------------------------|---------------------------------------------------------------|\n",
    "| `np.sort()`        | Returns a sorted copy of an array along a specified axis.                                                        | `np.sort([3, 1, 2])` ➔ `[1, 2, 3]`                           |\n",
    "| `np.argsort()`     | Returns the indices that would sort an array.                                                                    | `np.argsort([3, 1, 2])` ➔ `[1, 2, 0]`                        |\n",
    "| `np.lexsort()`     | Performs an indirect sort using multiple keys. Useful for sorting structured arrays or multiple columns.         | `np.lexsort((ages, names))`                                   |\n",
    "| `np.msort()`       | Sorts an array along its first axis (similar to `np.sort(a, axis=0)`).                                          | `np.msort([[3, 1], [2, 4]])` ➔ `[[2, 1], [3, 4]]`            |\n",
    "| `np.partition()`   | Partially sorts an array up to the specified index; elements are rearranged so that the `k`-th element is in its sorted position, and all elements before it are smaller. | `np.partition([3, 1, 2, 4], 2)` ➔ `[1, 2, 3, 4]`             |\n",
    "| `np.argpartition()`| Returns the indices that would partition an array as in `np.partition()`.                                       | `np.argpartition([3, 1, 2, 4], 2)` ➔ `[1, 2, 0, 3]`          |\n",
    "\n"
   ]
  },
  {
   "cell_type": "markdown",
   "metadata": {},
   "source": [
    "##### Unique and Other Set Logic\n",
    "NumPy has some basic set operations for one-dimensional ndarrays. A commonly used one is numpy.unique, which returns the sorted unique values in an array:"
   ]
  },
  {
   "cell_type": "code",
   "execution_count": 60,
   "metadata": {},
   "outputs": [
    {
     "data": {
      "text/plain": [
       "array([ True, False, False,  True,  True, False,  True])"
      ]
     },
     "execution_count": 60,
     "metadata": {},
     "output_type": "execute_result"
    }
   ],
   "source": [
    "names = np.array([\"Bob\", \"Will\", \"Joe\", \"Bob\", \"Will\", \"Joe\", \"Joe\"])\n",
    "np.unique(names)\n",
    "\n",
    "ints = np.array([3, 3, 3, 2, 2, 1, 1, 4, 4])\n",
    "np.unique(ints)\n",
    "\n",
    "# numpy.isin, tests membership of the values in one array in another, returning a Boolean array\n",
    "values = np.array([6, 0, 0, 3, 2, 5, 6])\n",
    "np.isin(values, [2,3,6])"
   ]
  },
  {
   "cell_type": "markdown",
   "metadata": {},
   "source": [
    "\n",
    "\n",
    "| **Method**            | **Description**                                                                                                                                                             | **Example**                                                                            |\n",
    "|-----------------------|-----------------------------------------------------------------------------------------------------------------------------------------------------------------------------|----------------------------------------------------------------------------------------|\n",
    "| `np.unique()`         | Returns the sorted unique elements of an array.                                                                                                                             | `np.unique([1, 2, 2, 3])` ➔ `[1, 2, 3]`                                               |\n",
    "| `np.intersect1d()`    | Finds the intersection of two arrays (elements common to both).                                                                                                            | `np.intersect1d([1, 2, 3], [3, 4])` ➔ `[3]`                                           |\n",
    "| `np.union1d()`        | Returns the union of two arrays (all unique elements from both arrays).                                                                                                    | `np.union1d([1, 2], [2, 3])` ➔ `[1, 2, 3]`                                            |\n",
    "| `np.setdiff1d()`      | Returns the set difference, i.e., elements in the first array that are not in the second.                                                                                   | `np.setdiff1d([1, 2, 3], [2, 3])` ➔ `[1]`                                             |\n",
    "| `np.setxor1d()`       | Returns the symmetric difference, i.e., elements that are in either of the arrays but not in both.                                                                         | `np.setxor1d([1, 2, 3], [2, 3, 4])` ➔ `[1, 4]`                                        |\n",
    "| `np.in1d()`           | Checks if elements of one array are in another array, returns a boolean array of the same shape as the first array.                                                        | `np.in1d([1, 2, 3], [2, 3])` ➔ `[False, True, True]`                                  |\n",
    "| `np.isin()`           | Similar to `np.in1d()` but works for arrays with any shape, returning an array of the same shape as the input with `True` or `False` for each element.                     | `np.isin([[1, 2], [3, 4]], [2, 3])` ➔ `[[False, True], [True, False]]`                 |\n"
   ]
  }
 ],
 "metadata": {
  "kernelspec": {
   "display_name": "env1",
   "language": "python",
   "name": "python3"
  },
  "language_info": {
   "codemirror_mode": {
    "name": "ipython",
    "version": 3
   },
   "file_extension": ".py",
   "mimetype": "text/x-python",
   "name": "python",
   "nbconvert_exporter": "python",
   "pygments_lexer": "ipython3",
   "version": "3.12.7"
  }
 },
 "nbformat": 4,
 "nbformat_minor": 2
}
